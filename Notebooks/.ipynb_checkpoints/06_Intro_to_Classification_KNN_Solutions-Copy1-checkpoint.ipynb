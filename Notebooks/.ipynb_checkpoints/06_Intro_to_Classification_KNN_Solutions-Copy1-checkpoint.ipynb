{
 "cells": [
  {
   "cell_type": "markdown",
   "metadata": {},
   "source": [
    "#Intro to Classification with KNN\n",
    "Of the several different major classes of machine learning problems, the ones we'll investigate most extensively in this course are [Classification Problems](https://en.wikipedia.org/wiki/Statistical_classification).  In a **classification problem** the **target variable** is **categorical** and known (**supervised**), and thus the task amounts to **classifying** an observation (set of features) into the proper **category** or **class**.  Hence the learning objective is to determine a function that performs this task (mapping feature vectors to categories) with suitable accuracy.\n",
    "\n",
    "In these exercises we'll go through 2 different datasets and perform a specific type of classification algorithm, **KNN (K-Nearest Neighbors)**, to build classification models both manually and using built-in classifiers from `sklearn`.\n",
    "\n",
    "##Learning Goals\n",
    "The packages and concepts we'll hope to get comfortable with in this activity are the following:\n",
    "- [***Classification Problems***](https://en.wikipedia.org/wiki/Statistical_classification): you should understand what the classification task is and how to carry out a classification pipeline start to finish\n",
    "- [***KNN with sklearn***](http://scikit-learn.org/stable/modules/generated/sklearn.neighbors.KNeighborsClassifier.html): built-in K-Nearest Neighbors Classifier class in sklearn\n",
    "- [***Feature Standardization***](http://scikit-learn.org/stable/modules/generated/sklearn.preprocessing.scale.html): sklearn and pandas functionality for scaling/standardizing/normalizing numeric feature data\n",
    "- ***Image Features***: So far we've worked with rows of data tables, now we'll just be given images as input and learn some ways to extract structured feature data from these images\n",
    "- [***KNN - How it works***](https://en.wikipedia.org/wiki/K-nearest_neighbors_algorithm): You should be able to manually carry out a KNN classifier and be familiar with concepts such as different distance metrics and weighting functions\n",
    "- [***Curse of Dimensionality***](https://en.wikipedia.org/wiki/Curse_of_dimensionality): issues that can arise with high-dimensional feature spaces (many features)\n",
    "\n",
    "##Datasets\n",
    "We'll take a look at 2 different datasets:\n",
    "1. [Fisher Iris Dataset](https://en.wikipedia.org/wiki/Iris_flower_data_set)  \n",
    "2. [MNIST Database of Handwritten Digits](http://yann.lecun.com/exdb/mnist/)  \n",
    "\n",
    "##Setup\n",
    "Try running the following imports and check that they all import successfully.  If they do not, the commands for the installs are given below.  If necessary, at a command line window run the ones that are failing for you and then retry the imports."
   ]
  },
  {
   "cell_type": "code",
   "execution_count": 43,
   "metadata": {
    "collapsed": true
   },
   "outputs": [],
   "source": [
    "# Necessary imports\n",
    "import pandas as pd\n",
    "import numpy as np\n",
    "import seaborn as sns\n",
    "from seaborn import plt\n",
    "from sklearn.datasets import load_iris\n",
    "%matplotlib inline"
   ]
  },
  {
   "cell_type": "markdown",
   "metadata": {},
   "source": [
    "###Installations (if necessary)\n",
    "<pre><code>conda install pandas</code></pre>\n",
    "<pre><code>conda install numpy</code></pre>\n",
    "<pre><code>conda install seaborn</code></pre>\n",
    "<pre><code>conda install scikit-learn</code></pre>"
   ]
  },
  {
   "cell_type": "markdown",
   "metadata": {},
   "source": [
    "##Fisher Iris Dataset\n",
    "For our first few exercises we'll work with the [Fisher Iris Dataset](https://en.wikipedia.org/wiki/Iris_flower_data_set) to demonstrate how **KNN Classification** might be done in `sklearn`.  The Iris Dataset contains 4 different numerical features (petal and sepal length and width (cm)) for 3 different species of flowers and the goal is to classify each observation into the proper of the 3 possible species. \n",
    "\n",
    "The Iris Dataset is an old and extremely common dataset in demonstrating machine learning, so much so that it's actually included in `sklearn`.  Let's load it in and explore:"
   ]
  },
  {
   "cell_type": "code",
   "execution_count": 44,
   "metadata": {
    "collapsed": false
   },
   "outputs": [
    {
     "data": {
      "text/plain": [
       "sklearn.datasets.base.Bunch"
      ]
     },
     "execution_count": 44,
     "metadata": {},
     "output_type": "execute_result"
    }
   ],
   "source": [
    "# Load in the Iris Dataset\n",
    "iris = load_iris()\n",
    "# What is the type of this object?\n",
    "type(iris)"
   ]
  },
  {
   "cell_type": "markdown",
   "metadata": {},
   "source": [
    "Let's check out some of the properties in a `sklearn.datasets.base.Bunch` object:"
   ]
  },
  {
   "cell_type": "code",
   "execution_count": 45,
   "metadata": {
    "collapsed": false
   },
   "outputs": [
    {
     "name": "stdout",
     "output_type": "stream",
     "text": [
      "Feature Names: ['sepal length (cm)', 'sepal width (cm)', 'petal length (cm)', 'petal width (cm)']\n",
      "Type of 'features': <type 'numpy.ndarray'>\n",
      "[[ 5.1  3.5  1.4  0.2]\n",
      " [ 4.9  3.   1.4  0.2]\n",
      " [ 4.7  3.2  1.3  0.2]\n",
      " [ 4.6  3.1  1.5  0.2]\n",
      " [ 5.   3.6  1.4  0.2]\n",
      " [ 5.4  3.9  1.7  0.4]\n",
      " [ 4.6  3.4  1.4  0.3]\n",
      " [ 5.   3.4  1.5  0.2]\n",
      " [ 4.4  2.9  1.4  0.2]\n",
      " [ 4.9  3.1  1.5  0.1]\n",
      " [ 5.4  3.7  1.5  0.2]\n",
      " [ 4.8  3.4  1.6  0.2]\n",
      " [ 4.8  3.   1.4  0.1]\n",
      " [ 4.3  3.   1.1  0.1]\n",
      " [ 5.8  4.   1.2  0.2]\n",
      " [ 5.7  4.4  1.5  0.4]\n",
      " [ 5.4  3.9  1.3  0.4]\n",
      " [ 5.1  3.5  1.4  0.3]\n",
      " [ 5.7  3.8  1.7  0.3]\n",
      " [ 5.1  3.8  1.5  0.3]\n",
      " [ 5.4  3.4  1.7  0.2]\n",
      " [ 5.1  3.7  1.5  0.4]\n",
      " [ 4.6  3.6  1.   0.2]\n",
      " [ 5.1  3.3  1.7  0.5]\n",
      " [ 4.8  3.4  1.9  0.2]\n",
      " [ 5.   3.   1.6  0.2]\n",
      " [ 5.   3.4  1.6  0.4]\n",
      " [ 5.2  3.5  1.5  0.2]\n",
      " [ 5.2  3.4  1.4  0.2]\n",
      " [ 4.7  3.2  1.6  0.2]\n",
      " [ 4.8  3.1  1.6  0.2]\n",
      " [ 5.4  3.4  1.5  0.4]\n",
      " [ 5.2  4.1  1.5  0.1]\n",
      " [ 5.5  4.2  1.4  0.2]\n",
      " [ 4.9  3.1  1.5  0.1]\n",
      " [ 5.   3.2  1.2  0.2]\n",
      " [ 5.5  3.5  1.3  0.2]\n",
      " [ 4.9  3.1  1.5  0.1]\n",
      " [ 4.4  3.   1.3  0.2]\n",
      " [ 5.1  3.4  1.5  0.2]\n",
      " [ 5.   3.5  1.3  0.3]\n",
      " [ 4.5  2.3  1.3  0.3]\n",
      " [ 4.4  3.2  1.3  0.2]\n",
      " [ 5.   3.5  1.6  0.6]\n",
      " [ 5.1  3.8  1.9  0.4]\n",
      " [ 4.8  3.   1.4  0.3]\n",
      " [ 5.1  3.8  1.6  0.2]\n",
      " [ 4.6  3.2  1.4  0.2]\n",
      " [ 5.3  3.7  1.5  0.2]\n",
      " [ 5.   3.3  1.4  0.2]\n",
      " [ 7.   3.2  4.7  1.4]\n",
      " [ 6.4  3.2  4.5  1.5]\n",
      " [ 6.9  3.1  4.9  1.5]\n",
      " [ 5.5  2.3  4.   1.3]\n",
      " [ 6.5  2.8  4.6  1.5]\n",
      " [ 5.7  2.8  4.5  1.3]\n",
      " [ 6.3  3.3  4.7  1.6]\n",
      " [ 4.9  2.4  3.3  1. ]\n",
      " [ 6.6  2.9  4.6  1.3]\n",
      " [ 5.2  2.7  3.9  1.4]\n",
      " [ 5.   2.   3.5  1. ]\n",
      " [ 5.9  3.   4.2  1.5]\n",
      " [ 6.   2.2  4.   1. ]\n",
      " [ 6.1  2.9  4.7  1.4]\n",
      " [ 5.6  2.9  3.6  1.3]\n",
      " [ 6.7  3.1  4.4  1.4]\n",
      " [ 5.6  3.   4.5  1.5]\n",
      " [ 5.8  2.7  4.1  1. ]\n",
      " [ 6.2  2.2  4.5  1.5]\n",
      " [ 5.6  2.5  3.9  1.1]\n",
      " [ 5.9  3.2  4.8  1.8]\n",
      " [ 6.1  2.8  4.   1.3]\n",
      " [ 6.3  2.5  4.9  1.5]\n",
      " [ 6.1  2.8  4.7  1.2]\n",
      " [ 6.4  2.9  4.3  1.3]\n",
      " [ 6.6  3.   4.4  1.4]\n",
      " [ 6.8  2.8  4.8  1.4]\n",
      " [ 6.7  3.   5.   1.7]\n",
      " [ 6.   2.9  4.5  1.5]\n",
      " [ 5.7  2.6  3.5  1. ]\n",
      " [ 5.5  2.4  3.8  1.1]\n",
      " [ 5.5  2.4  3.7  1. ]\n",
      " [ 5.8  2.7  3.9  1.2]\n",
      " [ 6.   2.7  5.1  1.6]\n",
      " [ 5.4  3.   4.5  1.5]\n",
      " [ 6.   3.4  4.5  1.6]\n",
      " [ 6.7  3.1  4.7  1.5]\n",
      " [ 6.3  2.3  4.4  1.3]\n",
      " [ 5.6  3.   4.1  1.3]\n",
      " [ 5.5  2.5  4.   1.3]\n",
      " [ 5.5  2.6  4.4  1.2]\n",
      " [ 6.1  3.   4.6  1.4]\n",
      " [ 5.8  2.6  4.   1.2]\n",
      " [ 5.   2.3  3.3  1. ]\n",
      " [ 5.6  2.7  4.2  1.3]\n",
      " [ 5.7  3.   4.2  1.2]\n",
      " [ 5.7  2.9  4.2  1.3]\n",
      " [ 6.2  2.9  4.3  1.3]\n",
      " [ 5.1  2.5  3.   1.1]\n",
      " [ 5.7  2.8  4.1  1.3]\n",
      " [ 6.3  3.3  6.   2.5]\n",
      " [ 5.8  2.7  5.1  1.9]\n",
      " [ 7.1  3.   5.9  2.1]\n",
      " [ 6.3  2.9  5.6  1.8]\n",
      " [ 6.5  3.   5.8  2.2]\n",
      " [ 7.6  3.   6.6  2.1]\n",
      " [ 4.9  2.5  4.5  1.7]\n",
      " [ 7.3  2.9  6.3  1.8]\n",
      " [ 6.7  2.5  5.8  1.8]\n",
      " [ 7.2  3.6  6.1  2.5]\n",
      " [ 6.5  3.2  5.1  2. ]\n",
      " [ 6.4  2.7  5.3  1.9]\n",
      " [ 6.8  3.   5.5  2.1]\n",
      " [ 5.7  2.5  5.   2. ]\n",
      " [ 5.8  2.8  5.1  2.4]\n",
      " [ 6.4  3.2  5.3  2.3]\n",
      " [ 6.5  3.   5.5  1.8]\n",
      " [ 7.7  3.8  6.7  2.2]\n",
      " [ 7.7  2.6  6.9  2.3]\n",
      " [ 6.   2.2  5.   1.5]\n",
      " [ 6.9  3.2  5.7  2.3]\n",
      " [ 5.6  2.8  4.9  2. ]\n",
      " [ 7.7  2.8  6.7  2. ]\n",
      " [ 6.3  2.7  4.9  1.8]\n",
      " [ 6.7  3.3  5.7  2.1]\n",
      " [ 7.2  3.2  6.   1.8]\n",
      " [ 6.2  2.8  4.8  1.8]\n",
      " [ 6.1  3.   4.9  1.8]\n",
      " [ 6.4  2.8  5.6  2.1]\n",
      " [ 7.2  3.   5.8  1.6]\n",
      " [ 7.4  2.8  6.1  1.9]\n",
      " [ 7.9  3.8  6.4  2. ]\n",
      " [ 6.4  2.8  5.6  2.2]\n",
      " [ 6.3  2.8  5.1  1.5]\n",
      " [ 6.1  2.6  5.6  1.4]\n",
      " [ 7.7  3.   6.1  2.3]\n",
      " [ 6.3  3.4  5.6  2.4]\n",
      " [ 6.4  3.1  5.5  1.8]\n",
      " [ 6.   3.   4.8  1.8]\n",
      " [ 6.9  3.1  5.4  2.1]\n",
      " [ 6.7  3.1  5.6  2.4]\n",
      " [ 6.9  3.1  5.1  2.3]\n",
      " [ 5.8  2.7  5.1  1.9]\n",
      " [ 6.8  3.2  5.9  2.3]\n",
      " [ 6.7  3.3  5.7  2.5]\n",
      " [ 6.7  3.   5.2  2.3]\n",
      " [ 6.3  2.5  5.   1.9]\n",
      " [ 6.5  3.   5.2  2. ]\n",
      " [ 6.2  3.4  5.4  2.3]\n",
      " [ 5.9  3.   5.1  1.8]]\n"
     ]
    }
   ],
   "source": [
    "# Retrieve the names of the features\n",
    "feature_names = iris.feature_names\n",
    "# Print the names of the features\n",
    "print 'Feature Names: ' + str(feature_names)\n",
    "# Retrieve the feature data\n",
    "features = iris.data\n",
    "# Print the type of this object\n",
    "print \"Type of 'features': \" + str(type(features))\n",
    "# Print the feature data (a numpy array)\n",
    "print features"
   ]
  },
  {
   "cell_type": "code",
   "execution_count": 46,
   "metadata": {
    "collapsed": false
   },
   "outputs": [
    {
     "name": "stdout",
     "output_type": "stream",
     "text": [
      "Type of 'target': <type 'numpy.ndarray'>\n",
      "[0 0 0 0 0 0 0 0 0 0 0 0 0 0 0 0 0 0 0 0 0 0 0 0 0 0 0 0 0 0 0 0 0 0 0 0 0\n",
      " 0 0 0 0 0 0 0 0 0 0 0 0 0 1 1 1 1 1 1 1 1 1 1 1 1 1 1 1 1 1 1 1 1 1 1 1 1\n",
      " 1 1 1 1 1 1 1 1 1 1 1 1 1 1 1 1 1 1 1 1 1 1 1 1 1 1 2 2 2 2 2 2 2 2 2 2 2\n",
      " 2 2 2 2 2 2 2 2 2 2 2 2 2 2 2 2 2 2 2 2 2 2 2 2 2 2 2 2 2 2 2 2 2 2 2 2 2\n",
      " 2 2]\n"
     ]
    }
   ],
   "source": [
    "# Retrieve the target variable data\n",
    "target = iris.target\n",
    "# Print the type of this object\n",
    "print \"Type of 'target': \" + str(type(target))\n",
    "# Print the target data (a numpy array)\n",
    "print target"
   ]
  },
  {
   "cell_type": "markdown",
   "metadata": {},
   "source": [
    "You should notice that the `iris` object contains both the feature data and target data stored as `numpy` arrays, and the feature names stored as a `List` of strings.  Let's combine these items to create a `pandas` Dataframe for our dataset:"
   ]
  },
  {
   "cell_type": "code",
   "execution_count": 47,
   "metadata": {
    "collapsed": false
   },
   "outputs": [
    {
     "data": {
      "text/html": [
       "<div>\n",
       "<table border=\"1\" class=\"dataframe\">\n",
       "  <thead>\n",
       "    <tr style=\"text-align: right;\">\n",
       "      <th></th>\n",
       "      <th>sepal length (cm)</th>\n",
       "      <th>sepal width (cm)</th>\n",
       "      <th>petal length (cm)</th>\n",
       "      <th>petal width (cm)</th>\n",
       "      <th>Target</th>\n",
       "    </tr>\n",
       "  </thead>\n",
       "  <tbody>\n",
       "    <tr>\n",
       "      <th>0</th>\n",
       "      <td>5.1</td>\n",
       "      <td>3.5</td>\n",
       "      <td>1.4</td>\n",
       "      <td>0.2</td>\n",
       "      <td>0</td>\n",
       "    </tr>\n",
       "    <tr>\n",
       "      <th>1</th>\n",
       "      <td>4.9</td>\n",
       "      <td>3.0</td>\n",
       "      <td>1.4</td>\n",
       "      <td>0.2</td>\n",
       "      <td>0</td>\n",
       "    </tr>\n",
       "    <tr>\n",
       "      <th>2</th>\n",
       "      <td>4.7</td>\n",
       "      <td>3.2</td>\n",
       "      <td>1.3</td>\n",
       "      <td>0.2</td>\n",
       "      <td>0</td>\n",
       "    </tr>\n",
       "    <tr>\n",
       "      <th>3</th>\n",
       "      <td>4.6</td>\n",
       "      <td>3.1</td>\n",
       "      <td>1.5</td>\n",
       "      <td>0.2</td>\n",
       "      <td>0</td>\n",
       "    </tr>\n",
       "    <tr>\n",
       "      <th>4</th>\n",
       "      <td>5.0</td>\n",
       "      <td>3.6</td>\n",
       "      <td>1.4</td>\n",
       "      <td>0.2</td>\n",
       "      <td>0</td>\n",
       "    </tr>\n",
       "    <tr>\n",
       "      <th>5</th>\n",
       "      <td>5.4</td>\n",
       "      <td>3.9</td>\n",
       "      <td>1.7</td>\n",
       "      <td>0.4</td>\n",
       "      <td>0</td>\n",
       "    </tr>\n",
       "    <tr>\n",
       "      <th>6</th>\n",
       "      <td>4.6</td>\n",
       "      <td>3.4</td>\n",
       "      <td>1.4</td>\n",
       "      <td>0.3</td>\n",
       "      <td>0</td>\n",
       "    </tr>\n",
       "    <tr>\n",
       "      <th>7</th>\n",
       "      <td>5.0</td>\n",
       "      <td>3.4</td>\n",
       "      <td>1.5</td>\n",
       "      <td>0.2</td>\n",
       "      <td>0</td>\n",
       "    </tr>\n",
       "    <tr>\n",
       "      <th>8</th>\n",
       "      <td>4.4</td>\n",
       "      <td>2.9</td>\n",
       "      <td>1.4</td>\n",
       "      <td>0.2</td>\n",
       "      <td>0</td>\n",
       "    </tr>\n",
       "    <tr>\n",
       "      <th>9</th>\n",
       "      <td>4.9</td>\n",
       "      <td>3.1</td>\n",
       "      <td>1.5</td>\n",
       "      <td>0.1</td>\n",
       "      <td>0</td>\n",
       "    </tr>\n",
       "  </tbody>\n",
       "</table>\n",
       "</div>"
      ],
      "text/plain": [
       "   sepal length (cm)  sepal width (cm)  petal length (cm)  petal width (cm)  \\\n",
       "0                5.1               3.5                1.4               0.2   \n",
       "1                4.9               3.0                1.4               0.2   \n",
       "2                4.7               3.2                1.3               0.2   \n",
       "3                4.6               3.1                1.5               0.2   \n",
       "4                5.0               3.6                1.4               0.2   \n",
       "5                5.4               3.9                1.7               0.4   \n",
       "6                4.6               3.4                1.4               0.3   \n",
       "7                5.0               3.4                1.5               0.2   \n",
       "8                4.4               2.9                1.4               0.2   \n",
       "9                4.9               3.1                1.5               0.1   \n",
       "\n",
       "   Target  \n",
       "0       0  \n",
       "1       0  \n",
       "2       0  \n",
       "3       0  \n",
       "4       0  \n",
       "5       0  \n",
       "6       0  \n",
       "7       0  \n",
       "8       0  \n",
       "9       0  "
      ]
     },
     "execution_count": 47,
     "metadata": {},
     "output_type": "execute_result"
    }
   ],
   "source": [
    "# Create a pandas dataframe from the feature data and feature names\n",
    "df = pd.DataFrame(features, columns=feature_names)\n",
    "# Add the target variable to the dataframe\n",
    "df['Target'] = iris.target\n",
    "# Use head to take a look\n",
    "df.head(10)"
   ]
  },
  {
   "cell_type": "markdown",
   "metadata": {},
   "source": [
    "###Exploring the Iris Data\n",
    "If everything looks good in your dataframe, let's start exploring the data.\n",
    "\n",
    "First let's take a look at the datatypes:"
   ]
  },
  {
   "cell_type": "code",
   "execution_count": 48,
   "metadata": {
    "collapsed": false
   },
   "outputs": [
    {
     "name": "stdout",
     "output_type": "stream",
     "text": [
      "<class 'pandas.core.frame.DataFrame'>\n",
      "Int64Index: 150 entries, 0 to 149\n",
      "Data columns (total 5 columns):\n",
      "sepal length (cm)    150 non-null float64\n",
      "sepal width (cm)     150 non-null float64\n",
      "petal length (cm)    150 non-null float64\n",
      "petal width (cm)     150 non-null float64\n",
      "Target               150 non-null int64\n",
      "dtypes: float64(4), int64(1)\n",
      "memory usage: 7.0 KB\n"
     ]
    }
   ],
   "source": [
    "# Check datatypes with info\n",
    "df.info()"
   ]
  },
  {
   "cell_type": "markdown",
   "metadata": {},
   "source": [
    "This makes sense, the 4 measurements are floats and the class/target variable is an indicator int representing the flower class.  Let's check out the unique target values:"
   ]
  },
  {
   "cell_type": "code",
   "execution_count": 49,
   "metadata": {
    "collapsed": false
   },
   "outputs": [
    {
     "data": {
      "text/plain": [
       "array([0, 1, 2])"
      ]
     },
     "execution_count": 49,
     "metadata": {},
     "output_type": "execute_result"
    }
   ],
   "source": [
    "# Get the unique values of 'Target'\n",
    "df['Target'].unique()"
   ]
  },
  {
   "cell_type": "markdown",
   "metadata": {},
   "source": [
    "Good, we have 3 unique values of the 'Target' variable, one representing each possible class (species of flower).\n",
    "\n",
    "Now let's use `seaborn` to generate some plots to explore the data further.  For each possible pair of attributes we want to generate a color-coded scatterplot of the observations with different colors for each class.\n",
    "\n",
    "**Q: How many plots does this mean we should have and why?**"
   ]
  },
  {
   "cell_type": "code",
   "execution_count": 50,
   "metadata": {
    "collapsed": false
   },
   "outputs": [
    {
     "data": {
      "image/png": "[encoded data removed]",
      "text/plain": [
       "<matplotlib.figure.Figure at 0x104281ed0>"
      ]
     },
     "metadata": {},
     "output_type": "display_data"
    }
   ],
   "source": [
    "# Set up the figure and axes\n",
    "#we'll plot 2x3 figures (why?)\n",
    "fig, axes = plt.subplots(nrows=2, ncols=3)\n",
    "\n",
    "# Define the different colors to use for the 3 classes\n",
    "colors = ['r','g','b']\n",
    "\n",
    "# For each desired plot, create a scatterplot with the appropriate pair of attributes and the proper axis\n",
    "for i in range(3): \n",
    "    tmp = df[df.Target == i]\n",
    "    tmp.plot(x=0,y=1, kind='scatter', c=colors[i], ax=axes[0,0])\n",
    "\n",
    "for i in range(3): \n",
    "    tmp = df[df.Target == i]\n",
    "    tmp.plot(x=0,y=2, kind='scatter', c=colors[i], ax=axes[0,1])\n",
    "\n",
    "for i in range(3): \n",
    "    tmp = df[df.Target == i]\n",
    "    tmp.plot(x=0,y=3, kind='scatter', c=colors[i], ax=axes[0,2])\n",
    "    \n",
    "for i in range(3): \n",
    "    tmp = df[df.Target == i]\n",
    "    tmp.plot(x=1,y=2, kind='scatter', c=colors[i], ax=axes[1,0])\n",
    "\n",
    "for i in range(3): \n",
    "    tmp = df[df.Target == i]\n",
    "    tmp.plot(x=1,y=3, kind='scatter', c=colors[i], ax=axes[1,1])\n",
    "\n",
    "for i in range(3): \n",
    "    tmp = df[df.Target == i]\n",
    "    tmp.plot(x=2,y=3, kind='scatter', c=colors[i], ax=axes[1,2])"
   ]
  },
  {
   "cell_type": "markdown",
   "metadata": {},
   "source": [
    "####What do you notice from these plots?"
   ]
  },
  {
   "cell_type": "markdown",
   "metadata": {},
   "source": [
    "###KNN with sklearn\n",
    "Now that you should have a decent feel for the Iris data, let's use `sklearn` and **KNN** to try and classify our various flowers.  To do this we'll make use of the `KNeighborsClassifier`, ***and of course we won't forget to cross-validate!***\n",
    "\n",
    "First, let's generate a 70/30 train/test split:"
   ]
  },
  {
   "cell_type": "code",
   "execution_count": 51,
   "metadata": {
    "collapsed": false
   },
   "outputs": [],
   "source": [
    "#imports\n",
    "from matplotlib.colors import ListedColormap\n",
    "from sklearn import neighbors, datasets, feature_selection\n",
    "from sklearn.cross_validation import train_test_split, cross_val_score\n",
    "\n",
    "# Create the training (and test) set using scikit-learn's train_test_split function\n",
    "# Retrieve the feature data matrix\n",
    "X = df.iloc[:, 0:3]\n",
    "# Retrieve the target vector\n",
    "y = df['Target']\n",
    "# Perform a 70/30 train/test split for cross-validation\n",
    "X_train, X_test, y_train, y_test = train_test_split(X, y, test_size=0.3, random_state=12)\n",
    "\n",
    "# Note that we also could have just done the following\n",
    "X_train, X_test, y_train, y_test = train_test_split(iris.data, iris.target, test_size=0.3, random_state=12)\n",
    "\n",
    "# Try this sequence again with the following random seed.\n",
    "# observe how it changes the scores of K quite dramatically\n",
    "# X_train, X_test, y_train, y_test = train_test_split(iris.data, iris.target, test_size=0.3, random_state=8)"
   ]
  },
  {
   "cell_type": "markdown",
   "metadata": {},
   "source": [
    "Before we try a model, there's one more consideration.  **KNN** takes (at least) 1 parameter, the value of ***k***.  \n",
    "\n",
    "**Q: How do we know what value of *k* to use?**"
   ]
  },
  {
   "cell_type": "markdown",
   "metadata": {},
   "source": [
    "**A: **That's easy enough!  We'll just try out a whole range of ***k*** values with **cross-validation** (here a **train/test split**) and choose the model that  yields the best results!"
   ]
  },
  {
   "cell_type": "code",
   "execution_count": 52,
   "metadata": {
    "collapsed": false
   },
   "outputs": [
    {
     "name": "stdout",
     "output_type": "stream",
     "text": [
      "[1, 3, 5, 7, 9, 11, 13, 15, 17, 19, 21, 23, 25, 27, 29, 31, 33, 35, 37, 39, 41, 43, 45, 47, 49]\n"
     ]
    }
   ],
   "source": [
    "# Define a range of possible k values for KNN\n",
    "n_neighbors = range(1, 51, 2)\n",
    "print n_neighbors"
   ]
  },
  {
   "cell_type": "markdown",
   "metadata": {},
   "source": [
    "Now that we have our k-values to try, let's find a good `KNeighborsClassifier`:"
   ]
  },
  {
   "cell_type": "code",
   "execution_count": 53,
   "metadata": {
    "collapsed": true
   },
   "outputs": [],
   "source": [
    "# Loop through each neighbors value from 1 to 51 and record the model score in scores\n",
    "scores = []\n",
    "for k in n_neighbors:\n",
    "    # Create a KNN Classifier with k=k\n",
    "    clf = neighbors.KNeighborsClassifier(k)\n",
    "    # Fit the KNN Classifier to the training set\n",
    "    clf.fit(X_train, y_train)\n",
    "    # Test the model against the test set and save the score\n",
    "    scores.append(clf.score(X_test, y_test))"
   ]
  },
  {
   "cell_type": "markdown",
   "metadata": {},
   "source": [
    "Let's plot the scores that we got against k to see what value of k might be best:"
   ]
  },
  {
   "cell_type": "code",
   "execution_count": 54,
   "metadata": {
    "collapsed": false
   },
   "outputs": [
    {
     "data": {
      "text/plain": [
       "[<matplotlib.lines.Line2D at 0x10b652910>]"
      ]
     },
     "execution_count": 54,
     "metadata": {},
     "output_type": "execute_result"
    },
    {
     "data": {
      "image/png": "[encoded data removed]",
      "text/plain": [
       "<matplotlib.figure.Figure at 0x10949cb90>"
      ]
     },
     "metadata": {},
     "output_type": "display_data"
    }
   ],
   "source": [
    "# Plot model scores vs. k\n",
    "plt.plot(n_neighbors, scores, linewidth=3.0)"
   ]
  },
  {
   "cell_type": "markdown",
   "metadata": {},
   "source": [
    "####What appears to be the optimal value of k for this dataset?\n",
    "\n",
    "\n",
    "\n",
    "####Why does the classification rate go down with more neighbors?\n",
    "\n",
    "\n",
    "\n",
    "####If we have N points in our dataset, what would happen if we use N neighbors to classify each point?\n",
    "\n",
    "\n"
   ]
  },
  {
   "cell_type": "markdown",
   "metadata": {},
   "source": [
    "### Application of k-fold Cross-Validation\n",
    "The work above shows that at 11 neighbors, we can get an ideal result that doesn't overfit the data. To verify this, we'll use automated cross validation in `sklearn`.  Specifically, let's try **5-fold cross-validation** with our **k=11** model:"
   ]
  },
  {
   "cell_type": "code",
   "execution_count": 55,
   "metadata": {
    "collapsed": false
   },
   "outputs": [
    {
     "name": "stdout",
     "output_type": "stream",
     "text": [
      "Scores: [ 0.93333333  1.          1.          0.96666667  1.        ]\n",
      "Score Avg: 0.98\n"
     ]
    }
   ],
   "source": [
    "# Import cross_val\n",
    "from sklearn.cross_validation import cross_val_score\n",
    "\n",
    "# Create the model with k=11\n",
    "clf = neighbors.KNeighborsClassifier(11, weights='uniform')\n",
    "# Fit the model to the full dataset\n",
    "clf.fit(iris.data, iris.target)\n",
    "# Have sklearn perform 5-fold cross-validation and print out the scores\n",
    "scores = cross_val_score(clf, iris.data, iris.target, cv=5)\n",
    "print 'Scores: ' + str(scores)\n",
    "print 'Score Avg: ' + str(scores.mean())"
   ]
  },
  {
   "cell_type": "markdown",
   "metadata": {},
   "source": [
    "The very high scores on this cross-validation show that this is a good model that is likely to generalize well and not overfit.  This is yet another way to do cross-validation with sklearn."
   ]
  },
  {
   "cell_type": "markdown",
   "metadata": {},
   "source": [
    "###Visualization of the Decision Boundary between Classes"
   ]
  },
  {
   "cell_type": "markdown",
   "metadata": {},
   "source": [
    "Let's try to get a color-coded look at the so-called ***decision boundaries*** for our classifier.  These are the locations (boundaries) in the feature space where the predicted class changes when crossed.  To do this, we'll focus only on the last 2 features of the dataset (if you remember the scatter plots from earlier, these 2 features seemed to do the best job **separating** out the different classes properly).\n",
    "\n",
    "First let's build a **KNN** model with **k=11** using only the last 2 features:"
   ]
  },
  {
   "cell_type": "code",
   "execution_count": 56,
   "metadata": {
    "collapsed": false
   },
   "outputs": [
    {
     "data": {
      "text/plain": [
       "KNeighborsClassifier(algorithm='auto', leaf_size=30, metric='minkowski',\n",
       "           metric_params=None, n_neighbors=11, p=2, weights='uniform')"
      ]
     },
     "execution_count": 56,
     "metadata": {},
     "output_type": "execute_result"
    }
   ],
   "source": [
    "# Create our classifier with k=11\n",
    "clf = neighbors.KNeighborsClassifier(11, weights='uniform')\n",
    "# Fit to the data (last 2 features and the target)\n",
    "clf.fit(iris.data[:, 2:4], iris.target)"
   ]
  },
  {
   "cell_type": "markdown",
   "metadata": {},
   "source": [
    "Now we'll do some manipulations to plot these decision boundaries.  Just take a look at how this works for now, you can read further into the documentation of some of these functions in the links below."
   ]
  },
  {
   "cell_type": "code",
   "execution_count": 57,
   "metadata": {
    "collapsed": true
   },
   "outputs": [],
   "source": [
    "h = 0.01  # step size in the mesh\n",
    "# Create color maps\n",
    "cmap_light = ListedColormap(['#FFAAAA', '#AAFFAA', '#AAAAFF'])\n",
    "cmap_bold = ListedColormap(['#FF0000', '#00FF00', '#0000FF'])"
   ]
  },
  {
   "cell_type": "code",
   "execution_count": 58,
   "metadata": {
    "collapsed": true
   },
   "outputs": [],
   "source": [
    "# Plot the decision boundary. For that, we will assign a color to each\n",
    "# point in the mesh [x_min, m_max]x[y_min, y_max].\n",
    "x_min, y_min = df.min()[['petal length (cm)', 'petal width (cm)']]\n",
    "x_max, y_max = df.max()[['petal length (cm)', 'petal width (cm)']]"
   ]
  },
  {
   "cell_type": "markdown",
   "metadata": {},
   "source": [
    "* [np.meshgrid](http://docs.scipy.org/doc/numpy/reference/generated/numpy.meshgrid.html) (build grid)\n",
    "* [ravel](http://docs.scipy.org/doc/numpy/reference/generated/numpy.ravel.html) (flatten)\n",
    "* [np.c_](http://docs.scipy.org/doc/numpy-1.6.0/reference/generated/numpy.c_.html#numpy.c_)\n",
    "    * `np.c_[np.array([1,2,3]), np.array([4,5,6])]` will get `[[1, 4],[2, 5],[3, 6]]`"
   ]
  },
  {
   "cell_type": "code",
   "execution_count": 59,
   "metadata": {
    "collapsed": true
   },
   "outputs": [],
   "source": [
    "xx, yy = np.meshgrid(np.arange(x_min, x_max, h), np.arange(y_min, y_max, h))\n",
    "Z = clf.predict(np.c_[xx.ravel(), yy.ravel()])"
   ]
  },
  {
   "cell_type": "code",
   "execution_count": 60,
   "metadata": {
    "collapsed": true
   },
   "outputs": [],
   "source": [
    "# Put the result into a color plot\n",
    "Z = Z.reshape(xx.shape)"
   ]
  },
  {
   "cell_type": "code",
   "execution_count": 61,
   "metadata": {
    "collapsed": false
   },
   "outputs": [
    {
     "data": {
      "text/plain": [
       "<matplotlib.collections.QuadMesh at 0x1037726d0>"
      ]
     },
     "execution_count": 61,
     "metadata": {},
     "output_type": "execute_result"
    },
    {
     "data": {
      "image/png": "[encoded data removed]",
      "text/plain": [
       "<matplotlib.figure.Figure at 0x10b5ea210>"
      ]
     },
     "metadata": {},
     "output_type": "display_data"
    }
   ],
   "source": [
    "plt.figure(figsize=(18,6))\n",
    "plt.pcolormesh(xx, yy, Z, cmap=cmap_light)"
   ]
  },
  {
   "cell_type": "code",
   "execution_count": 62,
   "metadata": {
    "collapsed": false
   },
   "outputs": [
    {
     "data": {
      "text/plain": [
       "<matplotlib.text.Text at 0x10b1a23d0>"
      ]
     },
     "execution_count": 62,
     "metadata": {},
     "output_type": "execute_result"
    },
    {
     "data": {
      "image/png": "[encoded data removed]",
      "text/plain": [
       "<matplotlib.figure.Figure at 0x1098fc7d0>"
      ]
     },
     "metadata": {},
     "output_type": "display_data"
    }
   ],
   "source": [
    "# Plot also the training points\n",
    "plt.figure(figsize=(18,6))\n",
    "plt.pcolormesh(xx, yy, Z, cmap=cmap_light)\n",
    "plt.scatter(df['petal length (cm)'], df['petal width (cm)'], c=iris.target, cmap=cmap_bold)\n",
    "plt.xlim(xx.min(), xx.max())\n",
    "plt.ylim(yy.min(), yy.max())\n",
    "plt.title(\"3-Class classification (k = {}, weights = '{}')\".format(clf.n_neighbors, clf.weights))"
   ]
  },
  {
   "cell_type": "markdown",
   "metadata": {},
   "source": [
    "### Scaling\n",
    "Oftentimes the features for a given dataset with have different ***scales***.  For varying types of machine learning algorithms, this can cause issues--for instance variables certain variables could tend to dominate leading to potentially unstable models.\n",
    "\n",
    "We can rectify such issues by first scaling our features to all be of comparable scale.  The 2 most common ways to do this are:\n",
    "- **Standardization**: transforming each feature value to the number of standard deviations the value is away from the mean of that feature\n",
    "- **Normalization**: Dividing every feature value by the max (or min) value for that feature (amounts to scaling between 0 and 1)\n",
    "\n",
    "You may see these terms used interchangeable, so all that's important is that you understand what each type is doing and that both are usually acceptable and improve your models.\n",
    "\n",
    "`sklearn` has built-in functions for scaling your variables for you, but you could also perform the same manipulations yourself using `pandas`.  Here's an example:"
   ]
  },
  {
   "cell_type": "code",
   "execution_count": 63,
   "metadata": {
    "collapsed": false
   },
   "outputs": [
    {
     "data": {
      "text/html": [
       "<div>\n",
       "<table border=\"1\" class=\"dataframe\">\n",
       "  <thead>\n",
       "    <tr style=\"text-align: right;\">\n",
       "      <th></th>\n",
       "      <th>sepal length (cm)</th>\n",
       "      <th>sepal width (cm)</th>\n",
       "      <th>petal length (cm)</th>\n",
       "      <th>petal width (cm)</th>\n",
       "      <th>Target</th>\n",
       "    </tr>\n",
       "  </thead>\n",
       "  <tbody>\n",
       "    <tr>\n",
       "      <th>count</th>\n",
       "      <td>150.000000</td>\n",
       "      <td>150.000000</td>\n",
       "      <td>150.000000</td>\n",
       "      <td>150.000000</td>\n",
       "      <td>150.000000</td>\n",
       "    </tr>\n",
       "    <tr>\n",
       "      <th>mean</th>\n",
       "      <td>5.843333</td>\n",
       "      <td>3.054000</td>\n",
       "      <td>3.758667</td>\n",
       "      <td>1.198667</td>\n",
       "      <td>1.000000</td>\n",
       "    </tr>\n",
       "    <tr>\n",
       "      <th>std</th>\n",
       "      <td>0.828066</td>\n",
       "      <td>0.433594</td>\n",
       "      <td>1.764420</td>\n",
       "      <td>0.763161</td>\n",
       "      <td>0.819232</td>\n",
       "    </tr>\n",
       "    <tr>\n",
       "      <th>min</th>\n",
       "      <td>4.300000</td>\n",
       "      <td>2.000000</td>\n",
       "      <td>1.000000</td>\n",
       "      <td>0.100000</td>\n",
       "      <td>0.000000</td>\n",
       "    </tr>\n",
       "    <tr>\n",
       "      <th>25%</th>\n",
       "      <td>5.100000</td>\n",
       "      <td>2.800000</td>\n",
       "      <td>1.600000</td>\n",
       "      <td>0.300000</td>\n",
       "      <td>0.000000</td>\n",
       "    </tr>\n",
       "    <tr>\n",
       "      <th>50%</th>\n",
       "      <td>5.800000</td>\n",
       "      <td>3.000000</td>\n",
       "      <td>4.350000</td>\n",
       "      <td>1.300000</td>\n",
       "      <td>1.000000</td>\n",
       "    </tr>\n",
       "    <tr>\n",
       "      <th>75%</th>\n",
       "      <td>6.400000</td>\n",
       "      <td>3.300000</td>\n",
       "      <td>5.100000</td>\n",
       "      <td>1.800000</td>\n",
       "      <td>2.000000</td>\n",
       "    </tr>\n",
       "    <tr>\n",
       "      <th>max</th>\n",
       "      <td>7.900000</td>\n",
       "      <td>4.400000</td>\n",
       "      <td>6.900000</td>\n",
       "      <td>2.500000</td>\n",
       "      <td>2.000000</td>\n",
       "    </tr>\n",
       "  </tbody>\n",
       "</table>\n",
       "</div>"
      ],
      "text/plain": [
       "       sepal length (cm)  sepal width (cm)  petal length (cm)  \\\n",
       "count         150.000000        150.000000         150.000000   \n",
       "mean            5.843333          3.054000           3.758667   \n",
       "std             0.828066          0.433594           1.764420   \n",
       "min             4.300000          2.000000           1.000000   \n",
       "25%             5.100000          2.800000           1.600000   \n",
       "50%             5.800000          3.000000           4.350000   \n",
       "75%             6.400000          3.300000           5.100000   \n",
       "max             7.900000          4.400000           6.900000   \n",
       "\n",
       "       petal width (cm)      Target  \n",
       "count        150.000000  150.000000  \n",
       "mean           1.198667    1.000000  \n",
       "std            0.763161    0.819232  \n",
       "min            0.100000    0.000000  \n",
       "25%            0.300000    0.000000  \n",
       "50%            1.300000    1.000000  \n",
       "75%            1.800000    2.000000  \n",
       "max            2.500000    2.000000  "
      ]
     },
     "execution_count": 63,
     "metadata": {},
     "output_type": "execute_result"
    }
   ],
   "source": [
    "df.describe()"
   ]
  },
  {
   "cell_type": "markdown",
   "metadata": {},
   "source": [
    "First let's do it with `sklearn`, using the default \"standardization\":"
   ]
  },
  {
   "cell_type": "code",
   "execution_count": 64,
   "metadata": {
    "collapsed": true
   },
   "outputs": [],
   "source": [
    "from sklearn.preprocessing import scale"
   ]
  },
  {
   "cell_type": "code",
   "execution_count": 65,
   "metadata": {
    "collapsed": false
   },
   "outputs": [
    {
     "data": {
      "text/html": [
       "<div>\n",
       "<table border=\"1\" class=\"dataframe\">\n",
       "  <thead>\n",
       "    <tr style=\"text-align: right;\">\n",
       "      <th></th>\n",
       "      <th>sepal length (cm)</th>\n",
       "      <th>sepal width (cm)</th>\n",
       "      <th>petal length (cm)</th>\n",
       "      <th>petal width (cm)</th>\n",
       "    </tr>\n",
       "  </thead>\n",
       "  <tbody>\n",
       "    <tr>\n",
       "      <th>0</th>\n",
       "      <td>-0.900681</td>\n",
       "      <td>1.032057</td>\n",
       "      <td>-1.341272</td>\n",
       "      <td>-1.312977</td>\n",
       "    </tr>\n",
       "    <tr>\n",
       "      <th>1</th>\n",
       "      <td>-1.143017</td>\n",
       "      <td>-0.124958</td>\n",
       "      <td>-1.341272</td>\n",
       "      <td>-1.312977</td>\n",
       "    </tr>\n",
       "    <tr>\n",
       "      <th>2</th>\n",
       "      <td>-1.385353</td>\n",
       "      <td>0.337848</td>\n",
       "      <td>-1.398138</td>\n",
       "      <td>-1.312977</td>\n",
       "    </tr>\n",
       "    <tr>\n",
       "      <th>3</th>\n",
       "      <td>-1.506521</td>\n",
       "      <td>0.106445</td>\n",
       "      <td>-1.284407</td>\n",
       "      <td>-1.312977</td>\n",
       "    </tr>\n",
       "    <tr>\n",
       "      <th>4</th>\n",
       "      <td>-1.021849</td>\n",
       "      <td>1.263460</td>\n",
       "      <td>-1.341272</td>\n",
       "      <td>-1.312977</td>\n",
       "    </tr>\n",
       "  </tbody>\n",
       "</table>\n",
       "</div>"
      ],
      "text/plain": [
       "   sepal length (cm)  sepal width (cm)  petal length (cm)  petal width (cm)\n",
       "0          -0.900681          1.032057          -1.341272         -1.312977\n",
       "1          -1.143017         -0.124958          -1.341272         -1.312977\n",
       "2          -1.385353          0.337848          -1.398138         -1.312977\n",
       "3          -1.506521          0.106445          -1.284407         -1.312977\n",
       "4          -1.021849          1.263460          -1.341272         -1.312977"
      ]
     },
     "execution_count": 65,
     "metadata": {},
     "output_type": "execute_result"
    }
   ],
   "source": [
    "df_norm = pd.DataFrame(scale(iris.data), columns=iris.feature_names)\n",
    "df_norm.head()"
   ]
  },
  {
   "cell_type": "markdown",
   "metadata": {},
   "source": [
    "Let's summarize the results, notice that the standard deviation is now 1 for every field (a consequence of standardization):"
   ]
  },
  {
   "cell_type": "code",
   "execution_count": 66,
   "metadata": {
    "collapsed": false
   },
   "outputs": [
    {
     "data": {
      "text/html": [
       "<div>\n",
       "<table border=\"1\" class=\"dataframe\">\n",
       "  <thead>\n",
       "    <tr style=\"text-align: right;\">\n",
       "      <th></th>\n",
       "      <th>sepal length (cm)</th>\n",
       "      <th>sepal width (cm)</th>\n",
       "      <th>petal length (cm)</th>\n",
       "      <th>petal width (cm)</th>\n",
       "    </tr>\n",
       "  </thead>\n",
       "  <tbody>\n",
       "    <tr>\n",
       "      <th>count</th>\n",
       "      <td>1.500000e+02</td>\n",
       "      <td>1.500000e+02</td>\n",
       "      <td>1.500000e+02</td>\n",
       "      <td>1.500000e+02</td>\n",
       "    </tr>\n",
       "    <tr>\n",
       "      <th>mean</th>\n",
       "      <td>-1.468455e-15</td>\n",
       "      <td>-1.657933e-15</td>\n",
       "      <td>-1.515825e-15</td>\n",
       "      <td>-8.052818e-16</td>\n",
       "    </tr>\n",
       "    <tr>\n",
       "      <th>std</th>\n",
       "      <td>1.003350e+00</td>\n",
       "      <td>1.003350e+00</td>\n",
       "      <td>1.003350e+00</td>\n",
       "      <td>1.003350e+00</td>\n",
       "    </tr>\n",
       "    <tr>\n",
       "      <th>min</th>\n",
       "      <td>-1.870024e+00</td>\n",
       "      <td>-2.438987e+00</td>\n",
       "      <td>-1.568735e+00</td>\n",
       "      <td>-1.444450e+00</td>\n",
       "    </tr>\n",
       "    <tr>\n",
       "      <th>25%</th>\n",
       "      <td>-9.006812e-01</td>\n",
       "      <td>-5.877635e-01</td>\n",
       "      <td>-1.227541e+00</td>\n",
       "      <td>-1.181504e+00</td>\n",
       "    </tr>\n",
       "    <tr>\n",
       "      <th>50%</th>\n",
       "      <td>-5.250608e-02</td>\n",
       "      <td>-1.249576e-01</td>\n",
       "      <td>3.362659e-01</td>\n",
       "      <td>1.332259e-01</td>\n",
       "    </tr>\n",
       "    <tr>\n",
       "      <th>75%</th>\n",
       "      <td>6.745011e-01</td>\n",
       "      <td>5.692513e-01</td>\n",
       "      <td>7.627586e-01</td>\n",
       "      <td>7.905908e-01</td>\n",
       "    </tr>\n",
       "    <tr>\n",
       "      <th>max</th>\n",
       "      <td>2.492019e+00</td>\n",
       "      <td>3.114684e+00</td>\n",
       "      <td>1.786341e+00</td>\n",
       "      <td>1.710902e+00</td>\n",
       "    </tr>\n",
       "  </tbody>\n",
       "</table>\n",
       "</div>"
      ],
      "text/plain": [
       "       sepal length (cm)  sepal width (cm)  petal length (cm)  \\\n",
       "count       1.500000e+02      1.500000e+02       1.500000e+02   \n",
       "mean       -1.468455e-15     -1.657933e-15      -1.515825e-15   \n",
       "std         1.003350e+00      1.003350e+00       1.003350e+00   \n",
       "min        -1.870024e+00     -2.438987e+00      -1.568735e+00   \n",
       "25%        -9.006812e-01     -5.877635e-01      -1.227541e+00   \n",
       "50%        -5.250608e-02     -1.249576e-01       3.362659e-01   \n",
       "75%         6.745011e-01      5.692513e-01       7.627586e-01   \n",
       "max         2.492019e+00      3.114684e+00       1.786341e+00   \n",
       "\n",
       "       petal width (cm)  \n",
       "count      1.500000e+02  \n",
       "mean      -8.052818e-16  \n",
       "std        1.003350e+00  \n",
       "min       -1.444450e+00  \n",
       "25%       -1.181504e+00  \n",
       "50%        1.332259e-01  \n",
       "75%        7.905908e-01  \n",
       "max        1.710902e+00  "
      ]
     },
     "execution_count": 66,
     "metadata": {},
     "output_type": "execute_result"
    }
   ],
   "source": [
    "df_norm.describe()"
   ]
  },
  {
   "cell_type": "markdown",
   "metadata": {},
   "source": [
    "Now let's do the same thing with `pandas` manipulations:"
   ]
  },
  {
   "cell_type": "code",
   "execution_count": 67,
   "metadata": {
    "collapsed": false
   },
   "outputs": [
    {
     "data": {
      "text/html": [
       "<div>\n",
       "<table border=\"1\" class=\"dataframe\">\n",
       "  <thead>\n",
       "    <tr style=\"text-align: right;\">\n",
       "      <th></th>\n",
       "      <th>sepal length (cm)</th>\n",
       "      <th>sepal width (cm)</th>\n",
       "      <th>petal length (cm)</th>\n",
       "      <th>petal width (cm)</th>\n",
       "    </tr>\n",
       "  </thead>\n",
       "  <tbody>\n",
       "    <tr>\n",
       "      <th>count</th>\n",
       "      <td>1.500000e+02</td>\n",
       "      <td>1.500000e+02</td>\n",
       "      <td>1.500000e+02</td>\n",
       "      <td>1.500000e+02</td>\n",
       "    </tr>\n",
       "    <tr>\n",
       "      <th>mean</th>\n",
       "      <td>-1.515825e-15</td>\n",
       "      <td>-1.657933e-15</td>\n",
       "      <td>-1.610564e-15</td>\n",
       "      <td>-7.105427e-16</td>\n",
       "    </tr>\n",
       "    <tr>\n",
       "      <th>std</th>\n",
       "      <td>1.000000e+00</td>\n",
       "      <td>1.000000e+00</td>\n",
       "      <td>1.000000e+00</td>\n",
       "      <td>1.000000e+00</td>\n",
       "    </tr>\n",
       "    <tr>\n",
       "      <th>min</th>\n",
       "      <td>-1.863780e+00</td>\n",
       "      <td>-2.430844e+00</td>\n",
       "      <td>-1.563497e+00</td>\n",
       "      <td>-1.439627e+00</td>\n",
       "    </tr>\n",
       "    <tr>\n",
       "      <th>25%</th>\n",
       "      <td>-8.976739e-01</td>\n",
       "      <td>-5.858010e-01</td>\n",
       "      <td>-1.223442e+00</td>\n",
       "      <td>-1.177559e+00</td>\n",
       "    </tr>\n",
       "    <tr>\n",
       "      <th>50%</th>\n",
       "      <td>-5.233076e-02</td>\n",
       "      <td>-1.245404e-01</td>\n",
       "      <td>3.351431e-01</td>\n",
       "      <td>1.327811e-01</td>\n",
       "    </tr>\n",
       "    <tr>\n",
       "      <th>75%</th>\n",
       "      <td>6.722490e-01</td>\n",
       "      <td>5.673506e-01</td>\n",
       "      <td>7.602119e-01</td>\n",
       "      <td>7.879511e-01</td>\n",
       "    </tr>\n",
       "    <tr>\n",
       "      <th>max</th>\n",
       "      <td>2.483699e+00</td>\n",
       "      <td>3.104284e+00</td>\n",
       "      <td>1.780377e+00</td>\n",
       "      <td>1.705189e+00</td>\n",
       "    </tr>\n",
       "  </tbody>\n",
       "</table>\n",
       "</div>"
      ],
      "text/plain": [
       "       sepal length (cm)  sepal width (cm)  petal length (cm)  \\\n",
       "count       1.500000e+02      1.500000e+02       1.500000e+02   \n",
       "mean       -1.515825e-15     -1.657933e-15      -1.610564e-15   \n",
       "std         1.000000e+00      1.000000e+00       1.000000e+00   \n",
       "min        -1.863780e+00     -2.430844e+00      -1.563497e+00   \n",
       "25%        -8.976739e-01     -5.858010e-01      -1.223442e+00   \n",
       "50%        -5.233076e-02     -1.245404e-01       3.351431e-01   \n",
       "75%         6.722490e-01      5.673506e-01       7.602119e-01   \n",
       "max         2.483699e+00      3.104284e+00       1.780377e+00   \n",
       "\n",
       "       petal width (cm)  \n",
       "count      1.500000e+02  \n",
       "mean      -7.105427e-16  \n",
       "std        1.000000e+00  \n",
       "min       -1.439627e+00  \n",
       "25%       -1.177559e+00  \n",
       "50%        1.327811e-01  \n",
       "75%        7.879511e-01  \n",
       "max        1.705189e+00  "
      ]
     },
     "execution_count": 67,
     "metadata": {},
     "output_type": "execute_result"
    }
   ],
   "source": [
    "# Select the data fields\n",
    "df_norm = df.iloc[:, 0:4]\n",
    "# Perform the standardization operation\n",
    "df_norm = (df_norm - df_norm.mean())/df_norm.std()\n",
    "# Summarize the results and notice we've done the same thing\n",
    "df_norm.describe()"
   ]
  },
  {
   "cell_type": "markdown",
   "metadata": {},
   "source": [
    "##Exercises"
   ]
  },
  {
   "cell_type": "markdown",
   "metadata": {},
   "source": [
    "In these exercises we'll try to use **KNN** for a slightly different type of classification task, that of classifying handwritten digits.  KNN is surely not the most adept algorithm to use for this task (neural networks have generally become the standard), but KNN is simple and we can do surprisingly better than random with this simple algorithm.\n",
    "\n",
    "The full dataset that we'll be using is the **MNIST Handwritten Digit** set and can be found [here](http://yann.lecun.com/exdb/mnist/).\n",
    "\n",
    "For these exercises, we'll first manually implement a KNN algorithm so you can better understand KNN.  After that, we'll see how easy it is to do the same work with `sklearn`.\n",
    "\n",
    "###Loading in the Data\n",
    "To this point we've used data where the features were already defined for us, but for the image dataset here we're simply given a bunch of labeled images.  How do we extract numerical features from images?\n",
    "\n",
    "To do this we'll use the pixel values, and thus every image observation will be represented as a vector of pixel values, so there will be `num_pixel` features.\n",
    "\n",
    "The code here handles the task of generating this feature data for you, take a look at it for future reference and understanding."
   ]
  },
  {
   "cell_type": "code",
   "execution_count": 68,
   "metadata": {
    "collapsed": true
   },
   "outputs": [],
   "source": [
    "import subprocess\n",
    "\n",
    "def download(url):\n",
    "    \"\"\"Download a GZIP archive, return the data as a byte string.\"\"\"\n",
    "    # Do the download by shelling out to curl.\n",
    "    cmd = 'curl \"%s\" | gzip -d' % url\n",
    "    return subprocess.check_output(cmd, shell=True)\n",
    "\n",
    "def get_files():\n",
    "    \"\"\"Download MNIST files from the internet.\"\"\"\n",
    "    url_format = \"http://yann.lecun.com/exdb/mnist/%s-%s-idx%d-ubyte.gz\"\n",
    "    files = [(\"train\", \"images\", 3), (\"train\", \"labels\", 1),\n",
    "             (\"t10k\", \"images\", 3), (\"t10k\", \"labels\", 1)]\n",
    "    \n",
    "    urls = [url_format % values for values in files]\n",
    "    data = [download(url) for url in urls]\n",
    "    return data\n",
    "\n",
    "data = get_files()"
   ]
  },
  {
   "cell_type": "markdown",
   "metadata": {},
   "source": [
    "Now we have the raw data, the following code will parse it into the data format we want:"
   ]
  },
  {
   "cell_type": "code",
   "execution_count": 69,
   "metadata": {
    "collapsed": true
   },
   "outputs": [],
   "source": [
    "import struct\n",
    "from numpy import *\n",
    "\n",
    "def parse_labels(data):\n",
    "    \"\"\"Parse labels from the binary file.\"\"\"\n",
    "    \n",
    "    # We're going to use the Python 'struct' package. \n",
    "    # This is an incredibly nice package which allows us to specify the format\n",
    "    # our data is in, and then automatically parses the data from the string.\n",
    "    # Let's start by getting the magic number and the length: the first character\n",
    "    # represents the endianness of the data (in our case, '>' for big endian), while\n",
    "    # the next characters are the format string ('2i' for two integers).\n",
    "    magic, n = struct.unpack_from('>2i', data)\n",
    "    assert magic == 2049, \"Wrong magic number: %d\" % magic\n",
    "    \n",
    "    # Next, let's extract the labels.\n",
    "    labels = struct.unpack_from('>%dB' % n, data, offset=8)\n",
    "    return labels\n",
    "    \n",
    "def parse_images(data):\n",
    "    \"\"\"Parse images from the binary file.\"\"\"\n",
    "    \n",
    "    # Parse metadata.\n",
    "    magic, n, rows, cols = struct.unpack_from('>4i', data)\n",
    "    assert magic == 2051, \"Wrong magic number: %d\" % magic\n",
    "    \n",
    "    # Get all the pixel intensity values.\n",
    "    num_pixels = n * rows * cols\n",
    "    pixels = struct.unpack_from('>%dB' % num_pixels, data, offset=16)\n",
    "    \n",
    "    # Convert this data to a NumPy array for ease of use.\n",
    "    pixels = asarray(pixels, dtype=ubyte)\n",
    "    \n",
    "    # Reshape into actual images instead of a 1-D array of pixels.\n",
    "    images = pixels.reshape((n, cols, rows))\n",
    "    return images\n",
    "\n",
    "train_images = parse_images(data[0])\n",
    "train_labels = parse_labels(data[1])\n",
    "test_images = parse_images(data[2])\n",
    "test_labels = parse_labels(data[3])"
   ]
  },
  {
   "cell_type": "markdown",
   "metadata": {},
   "source": [
    "For understanding, let's check out the data we've pulled down:"
   ]
  },
  {
   "cell_type": "code",
   "execution_count": 71,
   "metadata": {
    "collapsed": false
   },
   "outputs": [
    {
     "name": "stdout",
     "output_type": "stream",
     "text": [
      "<type 'numpy.ndarray'>\n",
      "<type 'tuple'>\n",
      "(60000, 28, 28)\n",
      "60000\n",
      "(10000, 28, 28)\n",
      "10000\n"
     ]
    }
   ],
   "source": [
    "# Type?\n",
    "print type(train_images)\n",
    "print type(train_labels)\n",
    "# Dimensions?\n",
    "print train_images.shape\n",
    "print len(train_labels)\n",
    "print test_images.shape\n",
    "print len(test_labels)"
   ]
  },
  {
   "cell_type": "markdown",
   "metadata": {},
   "source": [
    "Let's take a look at some of the images:"
   ]
  },
  {
   "cell_type": "code",
   "execution_count": 72,
   "metadata": {
    "collapsed": false
   },
   "outputs": [
    {
     "data": {
      "image/png": "[encoded data removed]",
      "text/plain": [
       "<matplotlib.figure.Figure at 0x10e685450>"
      ]
     },
     "metadata": {},
     "output_type": "display_data"
    }
   ],
   "source": [
    "from matplotlib.pyplot import *\n",
    "\n",
    "# Get the figure and axes.\n",
    "fig, axes = subplots(5, 5)\n",
    "axes = axes.reshape(25)\n",
    "fig.suptitle(\"Random Sampling of MNIST\")\n",
    "\n",
    "# Plot random images.\n",
    "indices = random.randint(len(train_images), size=25)\n",
    "for axis, index in zip(axes, indices):\n",
    "    image = train_images[index, :, :]\n",
    "    axis.get_xaxis().set_visible(False)\n",
    "    axis.get_yaxis().set_visible(False)\n",
    "    axis.imshow(image, cmap = cm.Greys_r)"
   ]
  },
  {
   "cell_type": "markdown",
   "metadata": {},
   "source": [
    "###Building a KNN Classifier\n",
    "We've now stored the image data into `numpy` arrays (which is exactly what we want for our Machine Learning purposes) and we can proceed with building our classifier.\n",
    "\n",
    "####Defining a Distance Function\n",
    "The first requirement for a KNN algorithm is to have a ***distance function/metric***.  This is any function we want to specify that will yield a distance value between any 2 points in our feature space.  \n",
    "\n",
    "For this first implementation, let's use [**Euclidean Distance**](https://en.wikipedia.org/wiki/Euclidean_distance). As an exercise, implement a function that calculates the Euclidean Distance between 2 arrays below: \n",
    "- The function should be called `euclidean_distance`\n",
    "- The parameters should be `img1` and `img2`, for which we'll be expecting `numpy` arrays\n",
    "- The output should return the **squared euclidean distance** (aka don't worry about taking the square root)"
   ]
  },
  {
   "cell_type": "code",
   "execution_count": 73,
   "metadata": {
    "collapsed": true
   },
   "outputs": [],
   "source": [
    "def euclidean_distance(img1, img2):\n",
    "    # Since we're using NumPy arrays, all our operations are automatically vectorized.\n",
    "    # A breakdown of this expression:\n",
    "    #     img1 - img2 is the pixel-wise difference between the images\n",
    "    #     (img1 - img2) ** 2 is the same thing, with each value squared\n",
    "    #     sum((img1 - img2) ** 2) is the sum of the elements in the matrix.\n",
    "    return sum((img1 - img2) ** 2)"
   ]
  },
  {
   "cell_type": "code",
   "execution_count": 74,
   "metadata": {
    "collapsed": true
   },
   "outputs": [],
   "source": [
    "from collections import defaultdict\n",
    "def get_majority(votes):\n",
    "    # For convenience, we're going to use a defaultdict.\n",
    "    # This is just a dictionary where values are initialized to zero\n",
    "    # if they don't exist.\n",
    "    counter = defaultdict(int)\n",
    "    for vote in votes:\n",
    "        # If this weren't a defaultdict, this would error on new vote values.\n",
    "        counter[vote] += 1\n",
    "    \n",
    "    # Find out who was the majority.\n",
    "    majority_count = max(counter.values())\n",
    "    for key, value in counter.items():\n",
    "        if value == majority_count:\n",
    "            return key"
   ]
  },
  {
   "cell_type": "code",
   "execution_count": 75,
   "metadata": {
    "collapsed": true
   },
   "outputs": [],
   "source": [
    "class NearestNeighborClassifier(object):\n",
    "    \"\"\"A generic k-nearest neighbor predictor.\n",
    "\n",
    "    You need to extend this class and implement distance(from, to)\n",
    "    and consensus(label_list) in order to make this functional.\"\"\"\n",
    "    \n",
    "    def __init__(self, dataset, k):\n",
    "        \"\"\"Create a new nearest neighbor classifier.\n",
    "\n",
    "        dataset - a list of data points. Each data point is an (x, y) pair,\n",
    "                  where x is the input and y is the label.\n",
    "        k - the number of neighbors to search for.\"\"\"\n",
    "        # Note how we don't have to do any initialization!\n",
    "        # Once we have a dataset, we can immediately get predictions on new values.\n",
    "        self.dataset = dataset\n",
    "        self.k = k\n",
    "        \n",
    "    def predict(self, point):\n",
    "        # We have to copy the data set list, because once we've located the best\n",
    "        # candidate from it, we don't want to see that candidate again, so we'll delete it.\n",
    "        candidates = self.dataset[:]\n",
    "    \n",
    "        # Loop until we've gotten all the neighbors we want.\n",
    "        neighbors = []\n",
    "        while len(neighbors) < self.k:\n",
    "            # Compute distances to every candidate.\n",
    "            distances = [self.distance(x[0], point) for x in candidates]\n",
    "            \n",
    "            # Find the minimum distance neighbor.\n",
    "            best_distance = min(distances)\n",
    "            index = distances.index(best_distance)\n",
    "            neighbors.append(candidates[index])\n",
    "        \n",
    "            # Remove the neighbor from the candidates list.\n",
    "            del candidates[index]\n",
    "        \n",
    "        # Predict by averaging the closets k elements.\n",
    "        prediction = self.consensus([value[1] for value in neighbors])\n",
    "        return prediction\n",
    "    \n",
    "    def distance(self, p1, p2):\n",
    "        return euclidean_distance(p1, p2)\n",
    "    \n",
    "    def consensus(self, values):\n",
    "        return get_majority(values)      "
   ]
  },
  {
   "cell_type": "code",
   "execution_count": 80,
   "metadata": {
    "collapsed": true
   },
   "outputs": [],
   "source": [
    "# Convert our data set into an easy format to use.\n",
    "# This is a list of (x, y) pairs. x is an image, y is a label.\n",
    "dataset = []\n",
    "for i in xrange(len(train_images)):\n",
    "    dataset.append((train_images[i, :, :], train_labels[i]))\n",
    "    \n",
    "# Create a predictor for various values of k.\n",
    "ks = [1, 2, 3, 4, 5, 6]\n",
    "predictors = [NearestNeighborClassifier(dataset, k) for k in ks] "
   ]
  },
  {
   "cell_type": "code",
   "execution_count": null,
   "metadata": {
    "collapsed": false
   },
   "outputs": [],
   "source": [
    "def predict_test_set(predictor, test_set):\n",
    "    \"\"\"Compute the prediction for every element of the test set.\"\"\"\n",
    "    predictions = [predictor.predict(test_set[i, :, :]) \n",
    "                   for i in xrange(len(test_set))]\n",
    "    return predictions\n",
    "\n",
    "# Choose a subset of the test set. Otherwise this will never finish.\n",
    "test_set = test_images[0:100, :, :]\n",
    "%timeit\n",
    "all_predictions = [predict_test_set(predictor, test_set) for predictor in predictors]"
   ]
  },
  {
   "cell_type": "code",
   "execution_count": 79,
   "metadata": {
    "collapsed": false
   },
   "outputs": [
    {
     "data": {
      "image/png": "[encoded data removed]",
      "text/plain": [
       "<matplotlib.figure.Figure at 0x104b79650>"
      ]
     },
     "metadata": {},
     "output_type": "display_data"
    }
   ],
   "source": [
    "def evaluate_prediction(predictions, answers):\n",
    "    \"\"\"Compute how many were identical in the answers and predictions,\n",
    "    and divide this by the number of predictions to get a percentage.\"\"\"\n",
    "    correct = sum(asarray(predictions) == asarray(answers))\n",
    "    total = float(prod(answers.shape))\n",
    "    return correct / total\n",
    "\n",
    "labels = asarray(test_labels[0:100])\n",
    "accuracies = [evaluate_prediction(pred, labels) for pred in all_predictions]\n",
    "\n",
    "# Draw the figure.\n",
    "fig = figure(1)\n",
    "plt.plot(ks, accuracies, 'ro', figure=fig)\n",
    "\n",
    "fig.suptitle(\"Nearest Neighbor Classifier Accuracies\")\n",
    "fig.axes[0].set_xlabel(\"k (# of neighbors considered)\")\n",
    "fig.axes[0].set_ylabel(\"accuracy (% correct)\");\n",
    "fig.axes[0].axis([0, max(ks) + 1, 0, 1]);"
   ]
  },
  {
   "cell_type": "markdown",
   "metadata": {
    "collapsed": true
   },
   "source": [
    "###KNN with sklearn\n",
    "While your manually generated KNN process is running, let's see how simple it is to create the exact same classifier with sklearn.\n",
    "\n",
    "####Create a train/test split\n",
    "Use [`sklearn.cross_validation.train_test_split`](http://scikit-learn.org/stable/modules/generated/sklearn.cross_validation.train_test_split.html) to create a 70/30 train test split of the image data.\n",
    "- Use only the testing data from before (`test_images` and `test_labels`) as your new full dataset\n",
    "- Pass that data to train_test_split\n",
    "- Return the output as `X_train`, `X_test`, `y_train`, `y_test`"
   ]
  },
  {
   "cell_type": "code",
   "execution_count": null,
   "metadata": {
    "collapsed": true
   },
   "outputs": [],
   "source": [
    "#Import sklearn.cross_validation.train_test_split\n",
    "from sklearn.cross_validation import train_test_split\n",
    "X_train, X_test, y_train, y_test = train_test_split(test_images, test_labels, test_size=0.3)"
   ]
  },
  {
   "cell_type": "code",
   "execution_count": null,
   "metadata": {
    "collapsed": true
   },
   "outputs": [],
   "source": []
  }
 ],
 "metadata": {
  "kernelspec": {
   "display_name": "Python 2",
   "language": "python",
   "name": "python2"
  },
  "language_info": {
   "codemirror_mode": {
    "name": "ipython",
    "version": 2
   },
   "file_extension": ".py",
   "mimetype": "text/x-python",
   "name": "python",
   "nbconvert_exporter": "python",
   "pygments_lexer": "ipython2",
   "version": "2.7.10"
  }
 },
 "nbformat": 4,
 "nbformat_minor": 0
}
