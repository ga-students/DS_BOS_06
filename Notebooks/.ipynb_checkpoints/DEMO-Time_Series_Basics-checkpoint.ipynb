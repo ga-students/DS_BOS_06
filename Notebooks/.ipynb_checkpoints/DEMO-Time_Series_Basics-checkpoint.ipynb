{
 "cells": [
  {
   "cell_type": "code",
   "execution_count": 2,
   "metadata": {
    "collapsed": true
   },
   "outputs": [],
   "source": [
    "from datetime import datetime\n",
    "import numpy as np\n",
    "import pandas as pd\n",
    "import matplotlib.pyplot as plt\n",
    "%matplotlib inline"
   ]
  },
  {
   "cell_type": "markdown",
   "metadata": {},
   "source": [
    "---\n",
    "#Time Series\n",
    "---"
   ]
  },
  {
   "cell_type": "markdown",
   "metadata": {},
   "source": [
    "#####Let's create a time series based upon the following dates"
   ]
  },
  {
   "cell_type": "code",
   "execution_count": 2,
   "metadata": {
    "collapsed": true
   },
   "outputs": [],
   "source": [
    "list_of_dates = ['1/1/2000', '2/1/2000', '3/1/2000', '4/1/2000', '5/1/2000',\\\n",
    "                 '6/1/2000', '7/1/2000', '8/1/2000', '9/1/2000', '10/1/2000', '11/1/2000', '12/1/2000']"
   ]
  },
  {
   "cell_type": "markdown",
   "metadata": {},
   "source": [
    "#####Take each date in the list and use the pandas to_datetime function"
   ]
  },
  {
   "cell_type": "code",
   "execution_count": 3,
   "metadata": {
    "collapsed": false
   },
   "outputs": [],
   "source": [
    "dates = [pd.to_datetime(date) for date in list_of_dates]"
   ]
  },
  {
   "cell_type": "markdown",
   "metadata": {},
   "source": [
    "#####This creates a list of timestamps"
   ]
  },
  {
   "cell_type": "code",
   "execution_count": 4,
   "metadata": {
    "collapsed": false
   },
   "outputs": [
    {
     "data": {
      "text/plain": [
       "[Timestamp('2000-01-01 00:00:00'),\n",
       " Timestamp('2000-02-01 00:00:00'),\n",
       " Timestamp('2000-03-01 00:00:00'),\n",
       " Timestamp('2000-04-01 00:00:00'),\n",
       " Timestamp('2000-05-01 00:00:00'),\n",
       " Timestamp('2000-06-01 00:00:00'),\n",
       " Timestamp('2000-07-01 00:00:00'),\n",
       " Timestamp('2000-08-01 00:00:00'),\n",
       " Timestamp('2000-09-01 00:00:00'),\n",
       " Timestamp('2000-10-01 00:00:00'),\n",
       " Timestamp('2000-11-01 00:00:00'),\n",
       " Timestamp('2000-12-01 00:00:00')]"
      ]
     },
     "execution_count": 4,
     "metadata": {},
     "output_type": "execute_result"
    }
   ],
   "source": [
    "dates"
   ]
  },
  {
   "cell_type": "markdown",
   "metadata": {},
   "source": [
    "#####Use the list of timestamps as the index into a new Series"
   ]
  },
  {
   "cell_type": "code",
   "execution_count": 6,
   "metadata": {
    "collapsed": false
   },
   "outputs": [],
   "source": [
    "time_series = pd.Series(np.random.randn(12), index=dates)"
   ]
  },
  {
   "cell_type": "markdown",
   "metadata": {},
   "source": [
    "###We now have a time series indexed by timestamps. This is the most basic kind of time series object in Pandas.\n",
    "#####The time intervals are equally spaced"
   ]
  },
  {
   "cell_type": "code",
   "execution_count": 7,
   "metadata": {
    "collapsed": false
   },
   "outputs": [
    {
     "data": {
      "text/plain": [
       "2000-01-01    0.017484\n",
       "2000-02-01   -0.398695\n",
       "2000-03-01   -0.852889\n",
       "2000-04-01   -2.104242\n",
       "2000-05-01    1.475262\n",
       "2000-06-01   -0.169263\n",
       "2000-07-01   -0.101939\n",
       "2000-08-01    0.510826\n",
       "2000-09-01   -0.715379\n",
       "2000-10-01   -0.361273\n",
       "2000-11-01   -0.140378\n",
       "2000-12-01    0.514994\n",
       "dtype: float64"
      ]
     },
     "execution_count": 7,
     "metadata": {},
     "output_type": "execute_result"
    }
   ],
   "source": [
    "time_series"
   ]
  },
  {
   "cell_type": "markdown",
   "metadata": {},
   "source": [
    "#####The timestamps have been put into a datetimeindex, and the variable now has the type Time series, or series"
   ]
  },
  {
   "cell_type": "code",
   "execution_count": 8,
   "metadata": {
    "collapsed": false
   },
   "outputs": [
    {
     "data": {
      "text/plain": [
       "pandas.core.series.Series"
      ]
     },
     "execution_count": 8,
     "metadata": {},
     "output_type": "execute_result"
    }
   ],
   "source": [
    "type(time_series)"
   ]
  },
  {
   "cell_type": "code",
   "execution_count": 9,
   "metadata": {
    "collapsed": false
   },
   "outputs": [
    {
     "data": {
      "text/plain": [
       "DatetimeIndex(['2000-01-01', '2000-02-01', '2000-03-01', '2000-04-01',\n",
       "               '2000-05-01', '2000-06-01', '2000-07-01', '2000-08-01',\n",
       "               '2000-09-01', '2000-10-01', '2000-11-01', '2000-12-01'],\n",
       "              dtype='datetime64[ns]', freq=None, tz=None)"
      ]
     },
     "execution_count": 9,
     "metadata": {},
     "output_type": "execute_result"
    }
   ],
   "source": [
    "time_series.index"
   ]
  },
  {
   "cell_type": "markdown",
   "metadata": {},
   "source": [
    "#####Make sure you understand the slice-step notation\n",
    "#####You specify a begining and an end and then a slice step size"
   ]
  },
  {
   "cell_type": "code",
   "execution_count": 10,
   "metadata": {
    "collapsed": false
   },
   "outputs": [
    {
     "data": {
      "text/plain": [
       "2000-01-01    0.017484\n",
       "2000-03-01   -0.852889\n",
       "2000-05-01    1.475262\n",
       "2000-07-01   -0.101939\n",
       "dtype: float64"
      ]
     },
     "execution_count": 10,
     "metadata": {},
     "output_type": "execute_result"
    }
   ],
   "source": [
    "time_series[0:8:2]"
   ]
  },
  {
   "cell_type": "code",
   "execution_count": 11,
   "metadata": {
    "collapsed": false
   },
   "outputs": [
    {
     "data": {
      "text/plain": [
       "2000-01-01    0.017484\n",
       "2000-04-01   -2.104242\n",
       "2000-07-01   -0.101939\n",
       "2000-10-01   -0.361273\n",
       "dtype: float64"
      ]
     },
     "execution_count": 11,
     "metadata": {},
     "output_type": "execute_result"
    }
   ],
   "source": [
    "time_series[::3]"
   ]
  },
  {
   "cell_type": "markdown",
   "metadata": {},
   "source": [
    "#####When arithmetic operations are performed between differently-indexed time series Pandas will automatically align on dates"
   ]
  },
  {
   "cell_type": "code",
   "execution_count": 12,
   "metadata": {
    "collapsed": false
   },
   "outputs": [
    {
     "data": {
      "text/plain": [
       "2000-01-01    0.034968\n",
       "2000-02-01         NaN\n",
       "2000-03-01         NaN\n",
       "2000-04-01   -4.208485\n",
       "2000-05-01         NaN\n",
       "2000-06-01         NaN\n",
       "2000-07-01   -0.203878\n",
       "2000-08-01         NaN\n",
       "2000-09-01         NaN\n",
       "2000-10-01   -0.722547\n",
       "2000-11-01         NaN\n",
       "2000-12-01         NaN\n",
       "dtype: float64"
      ]
     },
     "execution_count": 12,
     "metadata": {},
     "output_type": "execute_result"
    }
   ],
   "source": [
    "time_series + time_series[::3]"
   ]
  },
  {
   "cell_type": "markdown",
   "metadata": {},
   "source": [
    "#####Pandas stores timestamps using Numpy's datetime64 data type.\n",
    "#####This has nanoseond resolution!"
   ]
  },
  {
   "cell_type": "code",
   "execution_count": 14,
   "metadata": {
    "collapsed": false
   },
   "outputs": [
    {
     "data": {
      "text/plain": [
       "2000-01-01   -0.522681\n",
       "2000-01-02   -0.094393\n",
       "2000-01-03   -0.042612\n",
       "2000-01-04    0.382883\n",
       "2000-01-05   -0.438611\n",
       "Freq: D, dtype: float64"
      ]
     },
     "execution_count": 14,
     "metadata": {},
     "output_type": "execute_result"
    }
   ],
   "source": [
    "long_time_series = pd.Series(np.random.randn(1000), index=pd.date_range('1/1/2000', periods=1000))\n",
    "long_time_series.head()"
   ]
  },
  {
   "cell_type": "markdown",
   "metadata": {},
   "source": [
    "#####by default date_range generates daily timestamps\n",
    "####NB: the freq=BM option, which means business end of month; this will give you the last business day of each month\n",
    "####NB: the normalized=True option will generate timestamps mormalized to midnight"
   ]
  },
  {
   "cell_type": "markdown",
   "metadata": {},
   "source": [
    "###Selection - use a date or a date string"
   ]
  },
  {
   "cell_type": "code",
   "execution_count": 15,
   "metadata": {
    "collapsed": false
   },
   "outputs": [
    {
     "data": {
      "text/plain": [
       "-0.47978421448035785"
      ]
     },
     "execution_count": 15,
     "metadata": {},
     "output_type": "execute_result"
    }
   ],
   "source": [
    "long_time_series['2002-02-01']"
   ]
  },
  {
   "cell_type": "code",
   "execution_count": 16,
   "metadata": {
    "collapsed": false
   },
   "outputs": [
    {
     "data": {
      "text/plain": [
       "-0.47978421448035785"
      ]
     },
     "execution_count": 16,
     "metadata": {},
     "output_type": "execute_result"
    }
   ],
   "source": [
    "long_time_series['20020201']"
   ]
  },
  {
   "cell_type": "code",
   "execution_count": 17,
   "metadata": {
    "collapsed": false
   },
   "outputs": [
    {
     "data": {
      "text/plain": [
       "2002-05-01   -0.717755\n",
       "2002-05-02    1.440266\n",
       "2002-05-03   -0.851770\n",
       "2002-05-04   -0.536237\n",
       "2002-05-05    0.079721\n",
       "2002-05-06   -0.431877\n",
       "2002-05-07    1.487055\n",
       "2002-05-08   -2.646028\n",
       "2002-05-09    0.917910\n",
       "2002-05-10   -0.155188\n",
       "2002-05-11   -0.620833\n",
       "2002-05-12    0.426822\n",
       "2002-05-13    1.394189\n",
       "2002-05-14    1.184104\n",
       "2002-05-15   -0.615250\n",
       "2002-05-16   -0.743295\n",
       "2002-05-17    0.446262\n",
       "2002-05-18   -1.833614\n",
       "2002-05-19   -0.160724\n",
       "2002-05-20   -1.197168\n",
       "2002-05-21    0.182145\n",
       "2002-05-22   -1.708604\n",
       "2002-05-23   -0.992175\n",
       "2002-05-24   -0.448931\n",
       "2002-05-25    0.411859\n",
       "2002-05-26   -2.188211\n",
       "2002-05-27   -2.191948\n",
       "2002-05-28    0.161318\n",
       "2002-05-29   -2.181927\n",
       "2002-05-30    0.825192\n",
       "2002-05-31    0.277415\n",
       "Freq: D, dtype: float64"
      ]
     },
     "execution_count": 17,
     "metadata": {},
     "output_type": "execute_result"
    }
   ],
   "source": [
    "long_time_series['2002-05']"
   ]
  },
  {
   "cell_type": "markdown",
   "metadata": {},
   "source": [
    "###You can subset by using start and stop times"
   ]
  },
  {
   "cell_type": "code",
   "execution_count": 18,
   "metadata": {
    "collapsed": false
   },
   "outputs": [
    {
     "data": {
      "text/plain": [
       "2000-01-01   -0.522681\n",
       "2000-01-02   -0.094393\n",
       "2000-01-03   -0.042612\n",
       "2000-01-04    0.382883\n",
       "2000-01-05   -0.438611\n",
       "2000-01-06   -1.331094\n",
       "2000-01-07   -0.665458\n",
       "2000-01-08   -0.470934\n",
       "2000-01-09   -0.357553\n",
       "2000-01-10   -0.531738\n",
       "Freq: D, dtype: float64"
      ]
     },
     "execution_count": 18,
     "metadata": {},
     "output_type": "execute_result"
    }
   ],
   "source": [
    "long_time_series['1/1/2000':'1/10/2000']"
   ]
  },
  {
   "cell_type": "markdown",
   "metadata": {},
   "source": [
    "---\n",
    "#Dataframes\n",
    "---"
   ]
  },
  {
   "cell_type": "markdown",
   "metadata": {},
   "source": [
    "###Generating Date Ranges\n",
    "#####pd.date_range generates daily time stamps by default\n",
    "#####You can use this function to generate a DatetimeIndex with a certain length and a given frequency"
   ]
  },
  {
   "cell_type": "code",
   "execution_count": 19,
   "metadata": {
    "collapsed": true
   },
   "outputs": [],
   "source": [
    "dates = pd.date_range('1/1/1995', periods=100, freq='W-WED')\n",
    "df = pd.DataFrame(np.random.rand(100, 4), index = dates, columns = ['New York', \"Michigan\", \"Oregon\", \"Alaska\"])"
   ]
  },
  {
   "cell_type": "code",
   "execution_count": 20,
   "metadata": {
    "collapsed": false
   },
   "outputs": [
    {
     "data": {
      "text/html": [
       "<div>\n",
       "<table border=\"1\" class=\"dataframe\">\n",
       "  <thead>\n",
       "    <tr style=\"text-align: right;\">\n",
       "      <th></th>\n",
       "      <th>New York</th>\n",
       "      <th>Michigan</th>\n",
       "      <th>Oregon</th>\n",
       "      <th>Alaska</th>\n",
       "    </tr>\n",
       "  </thead>\n",
       "  <tbody>\n",
       "    <tr>\n",
       "      <th>1995-03-15</th>\n",
       "      <td>0.326712</td>\n",
       "      <td>0.566294</td>\n",
       "      <td>0.047539</td>\n",
       "      <td>0.601669</td>\n",
       "    </tr>\n",
       "    <tr>\n",
       "      <th>1995-03-22</th>\n",
       "      <td>0.442789</td>\n",
       "      <td>0.944800</td>\n",
       "      <td>0.849348</td>\n",
       "      <td>0.653333</td>\n",
       "    </tr>\n",
       "    <tr>\n",
       "      <th>1995-03-29</th>\n",
       "      <td>0.044381</td>\n",
       "      <td>0.963186</td>\n",
       "      <td>0.965764</td>\n",
       "      <td>0.899185</td>\n",
       "    </tr>\n",
       "    <tr>\n",
       "      <th>1995-04-05</th>\n",
       "      <td>0.971336</td>\n",
       "      <td>0.155444</td>\n",
       "      <td>0.565256</td>\n",
       "      <td>0.639404</td>\n",
       "    </tr>\n",
       "    <tr>\n",
       "      <th>1995-04-12</th>\n",
       "      <td>0.919043</td>\n",
       "      <td>0.653235</td>\n",
       "      <td>0.685886</td>\n",
       "      <td>0.181729</td>\n",
       "    </tr>\n",
       "  </tbody>\n",
       "</table>\n",
       "</div>"
      ],
      "text/plain": [
       "            New York  Michigan    Oregon    Alaska\n",
       "1995-03-15  0.326712  0.566294  0.047539  0.601669\n",
       "1995-03-22  0.442789  0.944800  0.849348  0.653333\n",
       "1995-03-29  0.044381  0.963186  0.965764  0.899185\n",
       "1995-04-05  0.971336  0.155444  0.565256  0.639404\n",
       "1995-04-12  0.919043  0.653235  0.685886  0.181729"
      ]
     },
     "execution_count": 20,
     "metadata": {},
     "output_type": "execute_result"
    }
   ],
   "source": [
    "df.iloc[10:15]"
   ]
  },
  {
   "cell_type": "code",
   "execution_count": 21,
   "metadata": {
    "collapsed": false
   },
   "outputs": [
    {
     "data": {
      "text/plain": [
       "New York    0.044381\n",
       "Michigan    0.963186\n",
       "Oregon      0.965764\n",
       "Alaska      0.899185\n",
       "Name: 1995-03-29 00:00:00, dtype: float64"
      ]
     },
     "execution_count": 21,
     "metadata": {},
     "output_type": "execute_result"
    }
   ],
   "source": [
    "df.ix['1995, 03, 29']"
   ]
  },
  {
   "cell_type": "code",
   "execution_count": 22,
   "metadata": {
    "collapsed": false
   },
   "outputs": [
    {
     "data": {
      "text/plain": [
       "New York    0.044381\n",
       "Michigan    0.963186\n",
       "Oregon      0.965764\n",
       "Alaska      0.899185\n",
       "Name: 1995-03-29 00:00:00, dtype: float64"
      ]
     },
     "execution_count": 22,
     "metadata": {},
     "output_type": "execute_result"
    }
   ],
   "source": [
    "df.ix['19950329']"
   ]
  },
  {
   "cell_type": "code",
   "execution_count": 23,
   "metadata": {
    "collapsed": false
   },
   "outputs": [
    {
     "data": {
      "text/html": [
       "<div>\n",
       "<table border=\"1\" class=\"dataframe\">\n",
       "  <thead>\n",
       "    <tr style=\"text-align: right;\">\n",
       "      <th></th>\n",
       "      <th>New York</th>\n",
       "      <th>Michigan</th>\n",
       "      <th>Oregon</th>\n",
       "      <th>Alaska</th>\n",
       "    </tr>\n",
       "  </thead>\n",
       "  <tbody>\n",
       "    <tr>\n",
       "      <th>1995-03-29</th>\n",
       "      <td>0.044381</td>\n",
       "      <td>0.963186</td>\n",
       "      <td>0.965764</td>\n",
       "      <td>0.899185</td>\n",
       "    </tr>\n",
       "    <tr>\n",
       "      <th>1995-04-05</th>\n",
       "      <td>0.971336</td>\n",
       "      <td>0.155444</td>\n",
       "      <td>0.565256</td>\n",
       "      <td>0.639404</td>\n",
       "    </tr>\n",
       "    <tr>\n",
       "      <th>1995-04-12</th>\n",
       "      <td>0.919043</td>\n",
       "      <td>0.653235</td>\n",
       "      <td>0.685886</td>\n",
       "      <td>0.181729</td>\n",
       "    </tr>\n",
       "    <tr>\n",
       "      <th>1995-04-19</th>\n",
       "      <td>0.412404</td>\n",
       "      <td>0.253661</td>\n",
       "      <td>0.234597</td>\n",
       "      <td>0.346937</td>\n",
       "    </tr>\n",
       "    <tr>\n",
       "      <th>1995-04-26</th>\n",
       "      <td>0.490850</td>\n",
       "      <td>0.214744</td>\n",
       "      <td>0.050014</td>\n",
       "      <td>0.869185</td>\n",
       "    </tr>\n",
       "    <tr>\n",
       "      <th>1995-05-03</th>\n",
       "      <td>0.581761</td>\n",
       "      <td>0.315814</td>\n",
       "      <td>0.104640</td>\n",
       "      <td>0.237487</td>\n",
       "    </tr>\n",
       "    <tr>\n",
       "      <th>1995-05-10</th>\n",
       "      <td>0.070405</td>\n",
       "      <td>0.902579</td>\n",
       "      <td>0.779262</td>\n",
       "      <td>0.261573</td>\n",
       "    </tr>\n",
       "    <tr>\n",
       "      <th>1995-05-17</th>\n",
       "      <td>0.414058</td>\n",
       "      <td>0.739190</td>\n",
       "      <td>0.385751</td>\n",
       "      <td>0.795295</td>\n",
       "    </tr>\n",
       "    <tr>\n",
       "      <th>1995-05-24</th>\n",
       "      <td>0.804530</td>\n",
       "      <td>0.765804</td>\n",
       "      <td>0.910216</td>\n",
       "      <td>0.068794</td>\n",
       "    </tr>\n",
       "    <tr>\n",
       "      <th>1995-05-31</th>\n",
       "      <td>0.308008</td>\n",
       "      <td>0.130137</td>\n",
       "      <td>0.426168</td>\n",
       "      <td>0.024598</td>\n",
       "    </tr>\n",
       "    <tr>\n",
       "      <th>1995-06-07</th>\n",
       "      <td>0.760646</td>\n",
       "      <td>0.580191</td>\n",
       "      <td>0.494689</td>\n",
       "      <td>0.731372</td>\n",
       "    </tr>\n",
       "    <tr>\n",
       "      <th>1995-06-14</th>\n",
       "      <td>0.747842</td>\n",
       "      <td>0.640453</td>\n",
       "      <td>0.871494</td>\n",
       "      <td>0.753307</td>\n",
       "    </tr>\n",
       "    <tr>\n",
       "      <th>1995-06-21</th>\n",
       "      <td>0.191010</td>\n",
       "      <td>0.650109</td>\n",
       "      <td>0.576483</td>\n",
       "      <td>0.769782</td>\n",
       "    </tr>\n",
       "    <tr>\n",
       "      <th>1995-06-28</th>\n",
       "      <td>0.005205</td>\n",
       "      <td>0.152128</td>\n",
       "      <td>0.699174</td>\n",
       "      <td>0.744150</td>\n",
       "    </tr>\n",
       "  </tbody>\n",
       "</table>\n",
       "</div>"
      ],
      "text/plain": [
       "            New York  Michigan    Oregon    Alaska\n",
       "1995-03-29  0.044381  0.963186  0.965764  0.899185\n",
       "1995-04-05  0.971336  0.155444  0.565256  0.639404\n",
       "1995-04-12  0.919043  0.653235  0.685886  0.181729\n",
       "1995-04-19  0.412404  0.253661  0.234597  0.346937\n",
       "1995-04-26  0.490850  0.214744  0.050014  0.869185\n",
       "1995-05-03  0.581761  0.315814  0.104640  0.237487\n",
       "1995-05-10  0.070405  0.902579  0.779262  0.261573\n",
       "1995-05-17  0.414058  0.739190  0.385751  0.795295\n",
       "1995-05-24  0.804530  0.765804  0.910216  0.068794\n",
       "1995-05-31  0.308008  0.130137  0.426168  0.024598\n",
       "1995-06-07  0.760646  0.580191  0.494689  0.731372\n",
       "1995-06-14  0.747842  0.640453  0.871494  0.753307\n",
       "1995-06-21  0.191010  0.650109  0.576483  0.769782\n",
       "1995-06-28  0.005205  0.152128  0.699174  0.744150"
      ]
     },
     "execution_count": 23,
     "metadata": {},
     "output_type": "execute_result"
    }
   ],
   "source": [
    "df.ix['19950329':'19950629']"
   ]
  },
  {
   "cell_type": "markdown",
   "metadata": {},
   "source": [
    "#####or"
   ]
  },
  {
   "cell_type": "code",
   "execution_count": 24,
   "metadata": {
    "collapsed": false
   },
   "outputs": [],
   "source": [
    "dates = pd.date_range('1/1/1995', '1/5/1995')\n",
    "df1 = pd.DataFrame(np.random.rand(len(dates), 4), index = dates, \\\n",
    "                   columns = ['New York', \"Michigan\", \"Oregon\", \"Alaska\"])"
   ]
  },
  {
   "cell_type": "code",
   "execution_count": 25,
   "metadata": {
    "collapsed": false
   },
   "outputs": [
    {
     "data": {
      "text/html": [
       "<div>\n",
       "<table border=\"1\" class=\"dataframe\">\n",
       "  <thead>\n",
       "    <tr style=\"text-align: right;\">\n",
       "      <th></th>\n",
       "      <th>New York</th>\n",
       "      <th>Michigan</th>\n",
       "      <th>Oregon</th>\n",
       "      <th>Alaska</th>\n",
       "    </tr>\n",
       "  </thead>\n",
       "  <tbody>\n",
       "    <tr>\n",
       "      <th>1995-01-01</th>\n",
       "      <td>0.234880</td>\n",
       "      <td>0.523537</td>\n",
       "      <td>0.832929</td>\n",
       "      <td>0.044057</td>\n",
       "    </tr>\n",
       "    <tr>\n",
       "      <th>1995-01-02</th>\n",
       "      <td>0.329659</td>\n",
       "      <td>0.395879</td>\n",
       "      <td>0.999084</td>\n",
       "      <td>0.623980</td>\n",
       "    </tr>\n",
       "    <tr>\n",
       "      <th>1995-01-03</th>\n",
       "      <td>0.137908</td>\n",
       "      <td>0.656211</td>\n",
       "      <td>0.866358</td>\n",
       "      <td>0.264824</td>\n",
       "    </tr>\n",
       "    <tr>\n",
       "      <th>1995-01-04</th>\n",
       "      <td>0.833664</td>\n",
       "      <td>0.904464</td>\n",
       "      <td>0.724702</td>\n",
       "      <td>0.782683</td>\n",
       "    </tr>\n",
       "    <tr>\n",
       "      <th>1995-01-05</th>\n",
       "      <td>0.483286</td>\n",
       "      <td>0.040287</td>\n",
       "      <td>0.460232</td>\n",
       "      <td>0.411774</td>\n",
       "    </tr>\n",
       "  </tbody>\n",
       "</table>\n",
       "</div>"
      ],
      "text/plain": [
       "            New York  Michigan    Oregon    Alaska\n",
       "1995-01-01  0.234880  0.523537  0.832929  0.044057\n",
       "1995-01-02  0.329659  0.395879  0.999084  0.623980\n",
       "1995-01-03  0.137908  0.656211  0.866358  0.264824\n",
       "1995-01-04  0.833664  0.904464  0.724702  0.782683\n",
       "1995-01-05  0.483286  0.040287  0.460232  0.411774"
      ]
     },
     "execution_count": 25,
     "metadata": {},
     "output_type": "execute_result"
    }
   ],
   "source": [
    "df1"
   ]
  },
  {
   "cell_type": "markdown",
   "metadata": {},
   "source": [
    "###Frequencies and Date Offsets\n",
    "####This is composed of a base frequency and a multiplier"
   ]
  },
  {
   "cell_type": "code",
   "execution_count": 26,
   "metadata": {
    "collapsed": true
   },
   "outputs": [],
   "source": [
    "from pandas.tseries.offsets import Hour, Minute"
   ]
  },
  {
   "cell_type": "code",
   "execution_count": 27,
   "metadata": {
    "collapsed": false
   },
   "outputs": [
    {
     "name": "stdout",
     "output_type": "stream",
     "text": [
      "<Hour>\n"
     ]
    }
   ],
   "source": [
    "hour = Hour()\n",
    "print hour"
   ]
  },
  {
   "cell_type": "code",
   "execution_count": 28,
   "metadata": {
    "collapsed": true
   },
   "outputs": [],
   "source": [
    "six_hours = Hour(6)"
   ]
  },
  {
   "cell_type": "markdown",
   "metadata": {},
   "source": [
    "#####'H' and 'M' abbreviate hour and month"
   ]
  },
  {
   "cell_type": "code",
   "execution_count": 29,
   "metadata": {
    "collapsed": false
   },
   "outputs": [
    {
     "data": {
      "text/plain": [
       "DatetimeIndex(['1990-01-01 00:00:00', '1990-01-01 06:00:00',\n",
       "               '1990-01-01 12:00:00', '1990-01-01 18:00:00'],\n",
       "              dtype='datetime64[ns]', freq='6H', tz=None)"
      ]
     },
     "execution_count": 29,
     "metadata": {},
     "output_type": "execute_result"
    }
   ],
   "source": [
    "pd.date_range('1/1/1990', '1/1/1990 23:59', freq='6H')"
   ]
  },
  {
   "cell_type": "code",
   "execution_count": 30,
   "metadata": {
    "collapsed": false
   },
   "outputs": [
    {
     "data": {
      "text/plain": [
       "DatetimeIndex(['1990-01-01 00:00:00', '1990-01-01 02:45:00',\n",
       "               '1990-01-01 05:30:00', '1990-01-01 08:15:00',\n",
       "               '1990-01-01 11:00:00', '1990-01-01 13:45:00',\n",
       "               '1990-01-01 16:30:00', '1990-01-01 19:15:00',\n",
       "               '1990-01-01 22:00:00', '1990-01-02 00:45:00'],\n",
       "              dtype='datetime64[ns]', freq='165T', tz=None)"
      ]
     },
     "execution_count": 30,
     "metadata": {},
     "output_type": "execute_result"
    }
   ],
   "source": [
    "pd.date_range('1/1/1990', '1/1/1990 23:59', freq=Hour(2)+Minute(45))"
   ]
  },
  {
   "cell_type": "markdown",
   "metadata": {},
   "source": [
    "#####Week of month (WOM) dates"
   ]
  },
  {
   "cell_type": "code",
   "execution_count": 31,
   "metadata": {
    "collapsed": false
   },
   "outputs": [
    {
     "data": {
      "text/plain": [
       "DatetimeIndex(['1990-01-19', '1990-02-16', '1990-03-16', '1990-04-20',\n",
       "               '1990-05-18'],\n",
       "              dtype='datetime64[ns]', freq='WOM-3FRI', tz=None)"
      ]
     },
     "execution_count": 31,
     "metadata": {},
     "output_type": "execute_result"
    }
   ],
   "source": [
    "pd.date_range('1/1/1990', '6/1/1990', freq='WOM-3FRI') #Week of month, 3rd friday"
   ]
  },
  {
   "cell_type": "markdown",
   "metadata": {},
   "source": [
    "#####Business dates"
   ]
  },
  {
   "cell_type": "code",
   "execution_count": 32,
   "metadata": {
    "collapsed": false
   },
   "outputs": [
    {
     "data": {
      "text/plain": [
       "DatetimeIndex(['2015-01-30', '2015-02-27', '2015-03-31', '2015-04-30',\n",
       "               '2015-05-29', '2015-06-30', '2015-07-31'],\n",
       "              dtype='datetime64[ns]', freq='BM', tz=None)"
      ]
     },
     "execution_count": 32,
     "metadata": {},
     "output_type": "execute_result"
    }
   ],
   "source": [
    "pd.date_range('1/1/2015', '8/1/2015', freq='BM') #last business day of the month"
   ]
  },
  {
   "cell_type": "markdown",
   "metadata": {},
   "source": [
    "#####Calendar dates"
   ]
  },
  {
   "cell_type": "code",
   "execution_count": 33,
   "metadata": {
    "collapsed": false
   },
   "outputs": [
    {
     "data": {
      "text/plain": [
       "DatetimeIndex(['2015-01-31', '2015-02-28', '2015-03-31', '2015-04-30',\n",
       "               '2015-05-31', '2015-06-30', '2015-07-31'],\n",
       "              dtype='datetime64[ns]', freq='M', tz=None)"
      ]
     },
     "execution_count": 33,
     "metadata": {},
     "output_type": "execute_result"
    }
   ],
   "source": [
    "pd.date_range('1/1/2015', '8/1/2015', freq='M') #last calendar day of the month"
   ]
  },
  {
   "cell_type": "markdown",
   "metadata": {},
   "source": [
    "---\n",
    "#Shifting Data - Leading and Lagging\n",
    "---"
   ]
  },
  {
   "cell_type": "markdown",
   "metadata": {},
   "source": [
    "#####Series and DataFrame have a shift method, which moves time series data forward or backward, leaving the index the same"
   ]
  },
  {
   "cell_type": "code",
   "execution_count": 3,
   "metadata": {
    "collapsed": false
   },
   "outputs": [],
   "source": [
    "time_s = pd.Series(np.random.randn(4), index = pd.date_range('1/1/1960', periods = 4, freq = 'M'))"
   ]
  },
  {
   "cell_type": "code",
   "execution_count": 4,
   "metadata": {
    "collapsed": false
   },
   "outputs": [
    {
     "data": {
      "text/plain": [
       "1960-01-31    0.386983\n",
       "1960-02-29   -0.410818\n",
       "1960-03-31    0.922945\n",
       "1960-04-30    0.771224\n",
       "Freq: M, dtype: float64"
      ]
     },
     "execution_count": 4,
     "metadata": {},
     "output_type": "execute_result"
    }
   ],
   "source": [
    "time_s"
   ]
  },
  {
   "cell_type": "markdown",
   "metadata": {},
   "source": [
    "#####shift the series forward 2 months"
   ]
  },
  {
   "cell_type": "code",
   "execution_count": 5,
   "metadata": {
    "collapsed": false
   },
   "outputs": [
    {
     "data": {
      "text/plain": [
       "1960-01-31         NaN\n",
       "1960-02-29         NaN\n",
       "1960-03-31    0.386983\n",
       "1960-04-30   -0.410818\n",
       "Freq: M, dtype: float64"
      ]
     },
     "execution_count": 5,
     "metadata": {},
     "output_type": "execute_result"
    }
   ],
   "source": [
    "time_s.shift(2)"
   ]
  },
  {
   "cell_type": "markdown",
   "metadata": {},
   "source": [
    "####and back two months"
   ]
  },
  {
   "cell_type": "code",
   "execution_count": 37,
   "metadata": {
    "collapsed": false
   },
   "outputs": [
    {
     "data": {
      "text/plain": [
       "1960-01-31   -0.006180\n",
       "1960-02-29   -1.365075\n",
       "1960-03-31         NaN\n",
       "1960-04-30         NaN\n",
       "Freq: M, dtype: float64"
      ]
     },
     "execution_count": 37,
     "metadata": {},
     "output_type": "execute_result"
    }
   ],
   "source": [
    "time_s.shift(-2)"
   ]
  },
  {
   "cell_type": "markdown",
   "metadata": {},
   "source": [
    "#####Data is discarded. If the period is known you can advance the timestamps if required"
   ]
  },
  {
   "cell_type": "code",
   "execution_count": 38,
   "metadata": {
    "collapsed": false
   },
   "outputs": [
    {
     "data": {
      "text/plain": [
       "1960-03-31   -1.276406\n",
       "1960-04-30   -1.228849\n",
       "1960-05-31   -0.006180\n",
       "1960-06-30   -1.365075\n",
       "Freq: M, dtype: float64"
      ]
     },
     "execution_count": 38,
     "metadata": {},
     "output_type": "execute_result"
    }
   ],
   "source": [
    "time_s.shift(2, freq='M')"
   ]
  },
  {
   "cell_type": "markdown",
   "metadata": {},
   "source": [
    "---\n",
    "#Resampling and Frequency Conversion\n",
    "---"
   ]
  },
  {
   "cell_type": "markdown",
   "metadata": {},
   "source": [
    "####Resampling refers to the process of converting a time series from one frequency to another\n",
    "\n",
    "#####Down sampling - means converting higher frequency data to a lower frequency\n",
    "\n",
    "#####Up sampling - means converting lower frequency data to a higher frequency\n"
   ]
  },
  {
   "cell_type": "markdown",
   "metadata": {},
   "source": [
    "####The pandas resample method. \n",
    "- freq: Indicates the desired resample frequency\n",
    "- how: Function name that produces the aggregated values (defaults to 'mean')\n",
    "- fill_method: How to interpolate when upsampling, 'ffill' for forward fill, 'bfill' for backfill\n",
    "- kind: aggregates to periods ('period') or timestamps('timestamp'), defaulting to the kind of index the time series already has"
   ]
  },
  {
   "cell_type": "markdown",
   "metadata": {},
   "source": [
    "#####NB: D = day, B = business day, H = hour, T = min (or min), S = second, L = millisecond, U = microsecond, M = monthend, BM = business month end, MS = month begin, BMS = business month begin"
   ]
  },
  {
   "cell_type": "markdown",
   "metadata": {},
   "source": [
    "#####Here is a series that has a daily entry"
   ]
  },
  {
   "cell_type": "code",
   "execution_count": 39,
   "metadata": {
    "collapsed": false
   },
   "outputs": [],
   "source": [
    "date_range = pd.date_range('1/1/1980', periods = 12, freq='T')\n",
    "ts_A = pd.Series(np.arange(12), index=date_range)"
   ]
  },
  {
   "cell_type": "code",
   "execution_count": 40,
   "metadata": {
    "collapsed": false
   },
   "outputs": [
    {
     "data": {
      "text/plain": [
       "1980-01-01 00:00:00     0\n",
       "1980-01-01 00:01:00     1\n",
       "1980-01-01 00:02:00     2\n",
       "1980-01-01 00:03:00     3\n",
       "1980-01-01 00:04:00     4\n",
       "1980-01-01 00:05:00     5\n",
       "1980-01-01 00:06:00     6\n",
       "1980-01-01 00:07:00     7\n",
       "1980-01-01 00:08:00     8\n",
       "1980-01-01 00:09:00     9\n",
       "1980-01-01 00:10:00    10\n",
       "1980-01-01 00:11:00    11\n",
       "Freq: T, dtype: int64"
      ]
     },
     "execution_count": 40,
     "metadata": {},
     "output_type": "execute_result"
    }
   ],
   "source": [
    "ts_A"
   ]
  },
  {
   "cell_type": "markdown",
   "metadata": {},
   "source": [
    "###Downsampling\n",
    "- aggregating data to a regular, lower frequency\n",
    "- not an uncommon operation\n",
    "- the desired frequency defines bin edges. These slice the time series into pieces to aggregate.\n",
    "- the intervals are said to be 'half open', and thought must go into which side of an interval is  closed\n",
    "- the new bins have to be labeled using either the start or the end of the interval"
   ]
  },
  {
   "cell_type": "markdown",
   "metadata": {},
   "source": [
    "####Downsample to 5 minute intervals, by taking the sum of each interval"
   ]
  },
  {
   "cell_type": "code",
   "execution_count": 41,
   "metadata": {
    "collapsed": false
   },
   "outputs": [
    {
     "data": {
      "text/plain": [
       "1979-12-31 23:55:00     0\n",
       "1980-01-01 00:00:00    15\n",
       "1980-01-01 00:05:00    40\n",
       "1980-01-01 00:10:00    11\n",
       "Freq: 5T, dtype: int64"
      ]
     },
     "execution_count": 41,
     "metadata": {},
     "output_type": "execute_result"
    }
   ],
   "source": [
    "ts_B1 = ts_A.resample('5min', how='sum', closed='right', label='left')\n",
    "ts_B1"
   ]
  },
  {
   "cell_type": "code",
   "execution_count": 42,
   "metadata": {
    "collapsed": false
   },
   "outputs": [
    {
     "data": {
      "text/plain": [
       "1980-01-01 00:00:00     0\n",
       "1980-01-01 00:05:00    15\n",
       "1980-01-01 00:10:00    40\n",
       "1980-01-01 00:15:00    11\n",
       "Freq: 5T, dtype: int64"
      ]
     },
     "execution_count": 42,
     "metadata": {},
     "output_type": "execute_result"
    }
   ],
   "source": [
    "ts_B2 = ts_A.resample('5min', how='sum', closed='right', label='right')\n",
    "ts_B2"
   ]
  },
  {
   "cell_type": "code",
   "execution_count": 43,
   "metadata": {
    "collapsed": false
   },
   "outputs": [
    {
     "data": {
      "text/plain": [
       "1980-01-01 00:00:00    10\n",
       "1980-01-01 00:05:00    35\n",
       "1980-01-01 00:10:00    21\n",
       "Freq: 5T, dtype: int64"
      ]
     },
     "execution_count": 43,
     "metadata": {},
     "output_type": "execute_result"
    }
   ],
   "source": [
    "ts_B3 = ts_A.resample('5min', how='sum', closed='left', label='left')\n",
    "ts_B3"
   ]
  },
  {
   "cell_type": "code",
   "execution_count": 44,
   "metadata": {
    "collapsed": false
   },
   "outputs": [
    {
     "data": {
      "text/plain": [
       "1980-01-01 00:05:00    10\n",
       "1980-01-01 00:10:00    35\n",
       "1980-01-01 00:15:00    21\n",
       "Freq: 5T, dtype: int64"
      ]
     },
     "execution_count": 44,
     "metadata": {},
     "output_type": "execute_result"
    }
   ],
   "source": [
    "ts_B4 = ts_A.resample('5min', how='sum', closed='left', label='right')\n",
    "ts_B4"
   ]
  },
  {
   "cell_type": "markdown",
   "metadata": {},
   "source": [
    "####You can also shift the index by a time amount if needed"
   ]
  },
  {
   "cell_type": "code",
   "execution_count": 45,
   "metadata": {
    "collapsed": false
   },
   "outputs": [
    {
     "data": {
      "text/plain": [
       "1980-01-01 00:02:30    10\n",
       "1980-01-01 00:07:30    35\n",
       "1980-01-01 00:12:30    21\n",
       "Freq: 5T, dtype: int64"
      ]
     },
     "execution_count": 45,
     "metadata": {},
     "output_type": "execute_result"
    }
   ],
   "source": [
    "ts_B5 = ts_A.resample('5min', how='sum', closed='left', label='left', loffset='+150S')\n",
    "ts_B5"
   ]
  },
  {
   "cell_type": "markdown",
   "metadata": {},
   "source": [
    "###Open-High_Low-Close (OHLC) Resampling"
   ]
  },
  {
   "cell_type": "code",
   "execution_count": 46,
   "metadata": {
    "collapsed": false
   },
   "outputs": [
    {
     "data": {
      "text/plain": [
       "1980-01-01 00:00:00     0\n",
       "1980-01-01 00:01:00     1\n",
       "1980-01-01 00:02:00     2\n",
       "1980-01-01 00:03:00     3\n",
       "1980-01-01 00:04:00     4\n",
       "1980-01-01 00:05:00     5\n",
       "1980-01-01 00:06:00     6\n",
       "1980-01-01 00:07:00     7\n",
       "1980-01-01 00:08:00     8\n",
       "1980-01-01 00:09:00     9\n",
       "1980-01-01 00:10:00    10\n",
       "1980-01-01 00:11:00    11\n",
       "Freq: T, dtype: int64"
      ]
     },
     "execution_count": 46,
     "metadata": {},
     "output_type": "execute_result"
    }
   ],
   "source": [
    "ts_A"
   ]
  },
  {
   "cell_type": "code",
   "execution_count": 47,
   "metadata": {
    "collapsed": false
   },
   "outputs": [
    {
     "data": {
      "text/html": [
       "<div>\n",
       "<table border=\"1\" class=\"dataframe\">\n",
       "  <thead>\n",
       "    <tr style=\"text-align: right;\">\n",
       "      <th></th>\n",
       "      <th>open</th>\n",
       "      <th>high</th>\n",
       "      <th>low</th>\n",
       "      <th>close</th>\n",
       "    </tr>\n",
       "  </thead>\n",
       "  <tbody>\n",
       "    <tr>\n",
       "      <th>1980-01-01 00:00:00</th>\n",
       "      <td>0</td>\n",
       "      <td>0</td>\n",
       "      <td>0</td>\n",
       "      <td>0</td>\n",
       "    </tr>\n",
       "    <tr>\n",
       "      <th>1980-01-01 00:05:00</th>\n",
       "      <td>1</td>\n",
       "      <td>5</td>\n",
       "      <td>1</td>\n",
       "      <td>5</td>\n",
       "    </tr>\n",
       "    <tr>\n",
       "      <th>1980-01-01 00:10:00</th>\n",
       "      <td>6</td>\n",
       "      <td>10</td>\n",
       "      <td>6</td>\n",
       "      <td>10</td>\n",
       "    </tr>\n",
       "    <tr>\n",
       "      <th>1980-01-01 00:15:00</th>\n",
       "      <td>11</td>\n",
       "      <td>11</td>\n",
       "      <td>11</td>\n",
       "      <td>11</td>\n",
       "    </tr>\n",
       "  </tbody>\n",
       "</table>\n",
       "</div>"
      ],
      "text/plain": [
       "                     open  high  low  close\n",
       "1980-01-01 00:00:00     0     0    0      0\n",
       "1980-01-01 00:05:00     1     5    1      5\n",
       "1980-01-01 00:10:00     6    10    6     10\n",
       "1980-01-01 00:15:00    11    11   11     11"
      ]
     },
     "execution_count": 47,
     "metadata": {},
     "output_type": "execute_result"
    }
   ],
   "source": [
    "ts_B6 = ts_A.resample('5min', how='ohlc', closed='right', label='right')\n",
    "ts_B6"
   ]
  },
  {
   "cell_type": "markdown",
   "metadata": {},
   "source": [
    "###Upsampling and Interpolation"
   ]
  },
  {
   "cell_type": "markdown",
   "metadata": {},
   "source": [
    "####Hopefully it is apparent that when you upsample you do not need to aggregate\n",
    "####You are, in fact, creating more data buckets than  you have samples of data to fill"
   ]
  },
  {
   "cell_type": "code",
   "execution_count": 48,
   "metadata": {
    "collapsed": false
   },
   "outputs": [
    {
     "data": {
      "text/html": [
       "<div>\n",
       "<table border=\"1\" class=\"dataframe\">\n",
       "  <thead>\n",
       "    <tr style=\"text-align: right;\">\n",
       "      <th></th>\n",
       "      <th>Sussex</th>\n",
       "      <th>Kent</th>\n",
       "      <th>Lancashire</th>\n",
       "      <th>London</th>\n",
       "    </tr>\n",
       "  </thead>\n",
       "  <tbody>\n",
       "    <tr>\n",
       "      <th>1980-01-02</th>\n",
       "      <td>-0.113281</td>\n",
       "      <td>0.148242</td>\n",
       "      <td>1.102372</td>\n",
       "      <td>-1.555234</td>\n",
       "    </tr>\n",
       "    <tr>\n",
       "      <th>1980-01-09</th>\n",
       "      <td>0.173301</td>\n",
       "      <td>1.314076</td>\n",
       "      <td>-0.069070</td>\n",
       "      <td>-0.322725</td>\n",
       "    </tr>\n",
       "  </tbody>\n",
       "</table>\n",
       "</div>"
      ],
      "text/plain": [
       "              Sussex      Kent  Lancashire    London\n",
       "1980-01-02 -0.113281  0.148242    1.102372 -1.555234\n",
       "1980-01-09  0.173301  1.314076   -0.069070 -0.322725"
      ]
     },
     "execution_count": 48,
     "metadata": {},
     "output_type": "execute_result"
    }
   ],
   "source": [
    "time_frame = pd.DataFrame(np.random.randn(2, 4), index = pd.date_range('1/1/1980', periods = 2, freq = 'W-WED'), \\\n",
    "columns = [\"Sussex\", \"Kent\", \"Lancashire\", \"London\"])\n",
    "time_frame"
   ]
  },
  {
   "cell_type": "code",
   "execution_count": 49,
   "metadata": {
    "collapsed": false
   },
   "outputs": [
    {
     "data": {
      "text/html": [
       "<div>\n",
       "<table border=\"1\" class=\"dataframe\">\n",
       "  <thead>\n",
       "    <tr style=\"text-align: right;\">\n",
       "      <th></th>\n",
       "      <th>Sussex</th>\n",
       "      <th>Kent</th>\n",
       "      <th>Lancashire</th>\n",
       "      <th>London</th>\n",
       "    </tr>\n",
       "  </thead>\n",
       "  <tbody>\n",
       "    <tr>\n",
       "      <th>1980-01-02</th>\n",
       "      <td>-0.113281</td>\n",
       "      <td>0.148242</td>\n",
       "      <td>1.102372</td>\n",
       "      <td>-1.555234</td>\n",
       "    </tr>\n",
       "    <tr>\n",
       "      <th>1980-01-03</th>\n",
       "      <td>NaN</td>\n",
       "      <td>NaN</td>\n",
       "      <td>NaN</td>\n",
       "      <td>NaN</td>\n",
       "    </tr>\n",
       "    <tr>\n",
       "      <th>1980-01-04</th>\n",
       "      <td>NaN</td>\n",
       "      <td>NaN</td>\n",
       "      <td>NaN</td>\n",
       "      <td>NaN</td>\n",
       "    </tr>\n",
       "    <tr>\n",
       "      <th>1980-01-05</th>\n",
       "      <td>NaN</td>\n",
       "      <td>NaN</td>\n",
       "      <td>NaN</td>\n",
       "      <td>NaN</td>\n",
       "    </tr>\n",
       "    <tr>\n",
       "      <th>1980-01-06</th>\n",
       "      <td>NaN</td>\n",
       "      <td>NaN</td>\n",
       "      <td>NaN</td>\n",
       "      <td>NaN</td>\n",
       "    </tr>\n",
       "    <tr>\n",
       "      <th>1980-01-07</th>\n",
       "      <td>NaN</td>\n",
       "      <td>NaN</td>\n",
       "      <td>NaN</td>\n",
       "      <td>NaN</td>\n",
       "    </tr>\n",
       "    <tr>\n",
       "      <th>1980-01-08</th>\n",
       "      <td>NaN</td>\n",
       "      <td>NaN</td>\n",
       "      <td>NaN</td>\n",
       "      <td>NaN</td>\n",
       "    </tr>\n",
       "    <tr>\n",
       "      <th>1980-01-09</th>\n",
       "      <td>0.173301</td>\n",
       "      <td>1.314076</td>\n",
       "      <td>-0.069070</td>\n",
       "      <td>-0.322725</td>\n",
       "    </tr>\n",
       "  </tbody>\n",
       "</table>\n",
       "</div>"
      ],
      "text/plain": [
       "              Sussex      Kent  Lancashire    London\n",
       "1980-01-02 -0.113281  0.148242    1.102372 -1.555234\n",
       "1980-01-03       NaN       NaN         NaN       NaN\n",
       "1980-01-04       NaN       NaN         NaN       NaN\n",
       "1980-01-05       NaN       NaN         NaN       NaN\n",
       "1980-01-06       NaN       NaN         NaN       NaN\n",
       "1980-01-07       NaN       NaN         NaN       NaN\n",
       "1980-01-08       NaN       NaN         NaN       NaN\n",
       "1980-01-09  0.173301  1.314076   -0.069070 -0.322725"
      ]
     },
     "execution_count": 49,
     "metadata": {},
     "output_type": "execute_result"
    }
   ],
   "source": [
    "time_frame_daily = time_frame.resample('D')\n",
    "time_frame_daily"
   ]
  },
  {
   "cell_type": "code",
   "execution_count": 50,
   "metadata": {
    "collapsed": false
   },
   "outputs": [
    {
     "data": {
      "text/html": [
       "<div>\n",
       "<table border=\"1\" class=\"dataframe\">\n",
       "  <thead>\n",
       "    <tr style=\"text-align: right;\">\n",
       "      <th></th>\n",
       "      <th>Sussex</th>\n",
       "      <th>Kent</th>\n",
       "      <th>Lancashire</th>\n",
       "      <th>London</th>\n",
       "    </tr>\n",
       "  </thead>\n",
       "  <tbody>\n",
       "    <tr>\n",
       "      <th>1980-01-02</th>\n",
       "      <td>-0.113281</td>\n",
       "      <td>0.148242</td>\n",
       "      <td>1.102372</td>\n",
       "      <td>-1.555234</td>\n",
       "    </tr>\n",
       "    <tr>\n",
       "      <th>1980-01-03</th>\n",
       "      <td>-0.113281</td>\n",
       "      <td>0.148242</td>\n",
       "      <td>1.102372</td>\n",
       "      <td>-1.555234</td>\n",
       "    </tr>\n",
       "    <tr>\n",
       "      <th>1980-01-04</th>\n",
       "      <td>-0.113281</td>\n",
       "      <td>0.148242</td>\n",
       "      <td>1.102372</td>\n",
       "      <td>-1.555234</td>\n",
       "    </tr>\n",
       "    <tr>\n",
       "      <th>1980-01-05</th>\n",
       "      <td>-0.113281</td>\n",
       "      <td>0.148242</td>\n",
       "      <td>1.102372</td>\n",
       "      <td>-1.555234</td>\n",
       "    </tr>\n",
       "    <tr>\n",
       "      <th>1980-01-06</th>\n",
       "      <td>-0.113281</td>\n",
       "      <td>0.148242</td>\n",
       "      <td>1.102372</td>\n",
       "      <td>-1.555234</td>\n",
       "    </tr>\n",
       "    <tr>\n",
       "      <th>1980-01-07</th>\n",
       "      <td>-0.113281</td>\n",
       "      <td>0.148242</td>\n",
       "      <td>1.102372</td>\n",
       "      <td>-1.555234</td>\n",
       "    </tr>\n",
       "    <tr>\n",
       "      <th>1980-01-08</th>\n",
       "      <td>-0.113281</td>\n",
       "      <td>0.148242</td>\n",
       "      <td>1.102372</td>\n",
       "      <td>-1.555234</td>\n",
       "    </tr>\n",
       "    <tr>\n",
       "      <th>1980-01-09</th>\n",
       "      <td>0.173301</td>\n",
       "      <td>1.314076</td>\n",
       "      <td>-0.069070</td>\n",
       "      <td>-0.322725</td>\n",
       "    </tr>\n",
       "  </tbody>\n",
       "</table>\n",
       "</div>"
      ],
      "text/plain": [
       "              Sussex      Kent  Lancashire    London\n",
       "1980-01-02 -0.113281  0.148242    1.102372 -1.555234\n",
       "1980-01-03 -0.113281  0.148242    1.102372 -1.555234\n",
       "1980-01-04 -0.113281  0.148242    1.102372 -1.555234\n",
       "1980-01-05 -0.113281  0.148242    1.102372 -1.555234\n",
       "1980-01-06 -0.113281  0.148242    1.102372 -1.555234\n",
       "1980-01-07 -0.113281  0.148242    1.102372 -1.555234\n",
       "1980-01-08 -0.113281  0.148242    1.102372 -1.555234\n",
       "1980-01-09  0.173301  1.314076   -0.069070 -0.322725"
      ]
     },
     "execution_count": 50,
     "metadata": {},
     "output_type": "execute_result"
    }
   ],
   "source": [
    "time_frame_daily_B = time_frame.resample('D', fill_method='ffill')\n",
    "time_frame_daily_B"
   ]
  },
  {
   "cell_type": "markdown",
   "metadata": {},
   "source": [
    "---\n",
    "#Plotting\n",
    "---"
   ]
  },
  {
   "cell_type": "code",
   "execution_count": 51,
   "metadata": {
    "collapsed": true
   },
   "outputs": [],
   "source": [
    "stocks = pd.read_csv(\"../Data/stock_px.csv\", parse_dates = True, index_col=0)"
   ]
  },
  {
   "cell_type": "code",
   "execution_count": 52,
   "metadata": {
    "collapsed": false
   },
   "outputs": [
    {
     "name": "stdout",
     "output_type": "stream",
     "text": [
      "<class 'pandas.core.frame.DataFrame'>\n",
      "DatetimeIndex: 5472 entries, 1990-02-01 to 2011-10-14\n",
      "Data columns (total 9 columns):\n",
      "AA      5472 non-null float64\n",
      "AAPL    5472 non-null float64\n",
      "GE      5472 non-null float64\n",
      "IBM     5472 non-null float64\n",
      "JNJ     5472 non-null float64\n",
      "MSFT    5472 non-null float64\n",
      "PEP     5471 non-null float64\n",
      "SPX     5472 non-null float64\n",
      "XOM     5472 non-null float64\n",
      "dtypes: float64(9)\n",
      "memory usage: 427.5 KB\n"
     ]
    }
   ],
   "source": [
    "stocks.info()"
   ]
  },
  {
   "cell_type": "code",
   "execution_count": 53,
   "metadata": {
    "collapsed": false
   },
   "outputs": [
    {
     "data": {
      "text/html": [
       "<div>\n",
       "<table border=\"1\" class=\"dataframe\">\n",
       "  <thead>\n",
       "    <tr style=\"text-align: right;\">\n",
       "      <th></th>\n",
       "      <th>AA</th>\n",
       "      <th>AAPL</th>\n",
       "      <th>GE</th>\n",
       "      <th>IBM</th>\n",
       "      <th>JNJ</th>\n",
       "      <th>MSFT</th>\n",
       "      <th>PEP</th>\n",
       "      <th>SPX</th>\n",
       "      <th>XOM</th>\n",
       "    </tr>\n",
       "  </thead>\n",
       "  <tbody>\n",
       "    <tr>\n",
       "      <th>1990-02-01</th>\n",
       "      <td>4.98</td>\n",
       "      <td>7.86</td>\n",
       "      <td>2.87</td>\n",
       "      <td>16.79</td>\n",
       "      <td>4.27</td>\n",
       "      <td>0.51</td>\n",
       "      <td>6.04</td>\n",
       "      <td>328.79</td>\n",
       "      <td>6.12</td>\n",
       "    </tr>\n",
       "    <tr>\n",
       "      <th>1990-02-02</th>\n",
       "      <td>5.04</td>\n",
       "      <td>8.00</td>\n",
       "      <td>2.87</td>\n",
       "      <td>16.89</td>\n",
       "      <td>4.37</td>\n",
       "      <td>0.51</td>\n",
       "      <td>6.09</td>\n",
       "      <td>330.92</td>\n",
       "      <td>6.24</td>\n",
       "    </tr>\n",
       "    <tr>\n",
       "      <th>1990-02-05</th>\n",
       "      <td>5.07</td>\n",
       "      <td>8.18</td>\n",
       "      <td>2.87</td>\n",
       "      <td>17.32</td>\n",
       "      <td>4.34</td>\n",
       "      <td>0.51</td>\n",
       "      <td>6.05</td>\n",
       "      <td>331.85</td>\n",
       "      <td>6.25</td>\n",
       "    </tr>\n",
       "    <tr>\n",
       "      <th>1990-02-06</th>\n",
       "      <td>5.01</td>\n",
       "      <td>8.12</td>\n",
       "      <td>2.88</td>\n",
       "      <td>17.56</td>\n",
       "      <td>4.32</td>\n",
       "      <td>0.51</td>\n",
       "      <td>6.15</td>\n",
       "      <td>329.66</td>\n",
       "      <td>6.23</td>\n",
       "    </tr>\n",
       "    <tr>\n",
       "      <th>1990-02-07</th>\n",
       "      <td>5.04</td>\n",
       "      <td>7.77</td>\n",
       "      <td>2.91</td>\n",
       "      <td>17.93</td>\n",
       "      <td>4.38</td>\n",
       "      <td>0.51</td>\n",
       "      <td>6.17</td>\n",
       "      <td>333.75</td>\n",
       "      <td>6.33</td>\n",
       "    </tr>\n",
       "  </tbody>\n",
       "</table>\n",
       "</div>"
      ],
      "text/plain": [
       "              AA  AAPL    GE    IBM   JNJ  MSFT   PEP     SPX   XOM\n",
       "1990-02-01  4.98  7.86  2.87  16.79  4.27  0.51  6.04  328.79  6.12\n",
       "1990-02-02  5.04  8.00  2.87  16.89  4.37  0.51  6.09  330.92  6.24\n",
       "1990-02-05  5.07  8.18  2.87  17.32  4.34  0.51  6.05  331.85  6.25\n",
       "1990-02-06  5.01  8.12  2.88  17.56  4.32  0.51  6.15  329.66  6.23\n",
       "1990-02-07  5.04  7.77  2.91  17.93  4.38  0.51  6.17  333.75  6.33"
      ]
     },
     "execution_count": 53,
     "metadata": {},
     "output_type": "execute_result"
    }
   ],
   "source": [
    "stocks.head(5)"
   ]
  },
  {
   "cell_type": "markdown",
   "metadata": {},
   "source": [
    "#####Plot on a particular stock "
   ]
  },
  {
   "cell_type": "code",
   "execution_count": 54,
   "metadata": {
    "collapsed": false
   },
   "outputs": [
    {
     "data": {
      "image/png": "[encoded data removed]",
      "text/plain": [
       "<matplotlib.figure.Figure at 0x1071087d0>"
      ]
     },
     "metadata": {},
     "output_type": "display_data"
    }
   ],
   "source": [
    "%matplotlib inline\n",
    "stocks['AAPL'].plot(figsize = (15,5))\n",
    "plt.show()"
   ]
  },
  {
   "cell_type": "markdown",
   "metadata": {},
   "source": [
    "#####or plot on the entire data frame"
   ]
  },
  {
   "cell_type": "code",
   "execution_count": 55,
   "metadata": {
    "collapsed": false
   },
   "outputs": [
    {
     "data": {
      "text/html": [
       "<div>\n",
       "<table border=\"1\" class=\"dataframe\">\n",
       "  <thead>\n",
       "    <tr style=\"text-align: right;\">\n",
       "      <th></th>\n",
       "      <th>AAPL</th>\n",
       "      <th>MSFT</th>\n",
       "      <th>XOM</th>\n",
       "    </tr>\n",
       "  </thead>\n",
       "  <tbody>\n",
       "    <tr>\n",
       "      <th>1990-02-01</th>\n",
       "      <td>7.86</td>\n",
       "      <td>0.51</td>\n",
       "      <td>6.12</td>\n",
       "    </tr>\n",
       "    <tr>\n",
       "      <th>1990-02-02</th>\n",
       "      <td>8.00</td>\n",
       "      <td>0.51</td>\n",
       "      <td>6.24</td>\n",
       "    </tr>\n",
       "    <tr>\n",
       "      <th>1990-02-05</th>\n",
       "      <td>8.18</td>\n",
       "      <td>0.51</td>\n",
       "      <td>6.25</td>\n",
       "    </tr>\n",
       "    <tr>\n",
       "      <th>1990-02-06</th>\n",
       "      <td>8.12</td>\n",
       "      <td>0.51</td>\n",
       "      <td>6.23</td>\n",
       "    </tr>\n",
       "    <tr>\n",
       "      <th>1990-02-07</th>\n",
       "      <td>7.77</td>\n",
       "      <td>0.51</td>\n",
       "      <td>6.33</td>\n",
       "    </tr>\n",
       "  </tbody>\n",
       "</table>\n",
       "</div>"
      ],
      "text/plain": [
       "            AAPL  MSFT   XOM\n",
       "1990-02-01  7.86  0.51  6.12\n",
       "1990-02-02  8.00  0.51  6.24\n",
       "1990-02-05  8.18  0.51  6.25\n",
       "1990-02-06  8.12  0.51  6.23\n",
       "1990-02-07  7.77  0.51  6.33"
      ]
     },
     "execution_count": 55,
     "metadata": {},
     "output_type": "execute_result"
    }
   ],
   "source": [
    "three_stocks = stocks[['AAPL', 'MSFT', 'XOM']]\n",
    "three_stocks.head(5)"
   ]
  },
  {
   "cell_type": "code",
   "execution_count": 56,
   "metadata": {
    "collapsed": false
   },
   "outputs": [
    {
     "data": {
      "text/plain": [
       "<matplotlib.legend.Legend at 0x107a67290>"
      ]
     },
     "execution_count": 56,
     "metadata": {},
     "output_type": "execute_result"
    },
    {
     "data": {
      "image/png": "[encoded data removed]",
      "text/plain": [
       "<matplotlib.figure.Figure at 0x107a67510>"
      ]
     },
     "metadata": {},
     "output_type": "display_data"
    }
   ],
   "source": [
    "three_stocks.ix['2004':'2009'].plot(figsize = (15,5))\n",
    "plt.legend(loc = \"upper left\")"
   ]
  },
  {
   "cell_type": "markdown",
   "metadata": {},
   "source": [
    "#####Note the x-axis formatting when you only plot a single year"
   ]
  },
  {
   "cell_type": "code",
   "execution_count": 57,
   "metadata": {
    "collapsed": false
   },
   "outputs": [
    {
     "data": {
      "text/plain": [
       "<matplotlib.legend.Legend at 0x1070e1e50>"
      ]
     },
     "execution_count": 57,
     "metadata": {},
     "output_type": "execute_result"
    },
    {
     "data": {
      "image/png": "[encoded data removed]",
      "text/plain": [
       "<matplotlib.figure.Figure at 0x10798b850>"
      ]
     },
     "metadata": {},
     "output_type": "display_data"
    }
   ],
   "source": [
    "three_stocks.ix['2009'].plot(figsize = (15,5))\n",
    "plt.legend(loc = \"upper left\")"
   ]
  },
  {
   "cell_type": "markdown",
   "metadata": {},
   "source": [
    "#####A quarterly plot"
   ]
  },
  {
   "cell_type": "code",
   "execution_count": 58,
   "metadata": {
    "collapsed": false
   },
   "outputs": [
    {
     "data": {
      "text/plain": [
       "<matplotlib.axes._subplots.AxesSubplot at 0x107de5310>"
      ]
     },
     "execution_count": 58,
     "metadata": {},
     "output_type": "execute_result"
    },
    {
     "data": {
      "image/png": "[encoded data removed]",
      "text/plain": [
       "<matplotlib.figure.Figure at 0x107df0990>"
      ]
     },
     "metadata": {},
     "output_type": "display_data"
    }
   ],
   "source": [
    "apple_quarterly = stocks['AAPL'].resample('Q-DEC', fill_method = 'ffill')\n",
    "apple_quarterly.ix['2009':].plot(figsize=(10, 5))"
   ]
  },
  {
   "cell_type": "markdown",
   "metadata": {},
   "source": [
    "---\n",
    "#Moving Window  Functions\n",
    "---"
   ]
  },
  {
   "cell_type": "markdown",
   "metadata": {},
   "source": [
    "#####These automatically exclude missing data"
   ]
  },
  {
   "cell_type": "code",
   "execution_count": 59,
   "metadata": {
    "collapsed": false
   },
   "outputs": [
    {
     "name": "stdout",
     "output_type": "stream",
     "text": [
      "Help on function roll_mean in module pandas.algos:\n",
      "\n",
      "roll_mean(arg, window, min_periods=None, freq=None, center=False, how=None, **kwargs)\n",
      "    Moving mean.\n",
      "    \n",
      "    Parameters\n",
      "    ----------\n",
      "    arg : Series, DataFrame\n",
      "    window : int\n",
      "        Size of the moving window. This is the number of observations used for\n",
      "        calculating the statistic.\n",
      "    min_periods : int, default None\n",
      "        Minimum number of observations in window required to have a value\n",
      "        (otherwise result is NA).\n",
      "    freq : string or DateOffset object, optional (default None)\n",
      "        Frequency to conform the data to before computing the statistic. Specified\n",
      "        as a frequency string or DateOffset object.\n",
      "    center : boolean, default False\n",
      "        Set the labels at the center of the window.\n",
      "    how : string, default 'None'\n",
      "        Method for down- or re-sampling\n",
      "    \n",
      "    Returns\n",
      "    -------\n",
      "    y : type of input argument\n",
      "    \n",
      "    Notes\n",
      "    -----\n",
      "    By default, the result is set to the right edge of the window. This can be\n",
      "    changed to the center of the window by setting ``center=True``.\n",
      "    \n",
      "    The `freq` keyword is used to conform time series data to a specified\n",
      "    frequency by resampling the data. This is done with the default parameters\n",
      "    of :meth:`~pandas.Series.resample` (i.e. using the `mean`).\n",
      "\n"
     ]
    }
   ],
   "source": [
    "help(pd.rolling_mean)"
   ]
  },
  {
   "cell_type": "markdown",
   "metadata": {},
   "source": [
    "###Moving Average"
   ]
  },
  {
   "cell_type": "markdown",
   "metadata": {},
   "source": [
    "#####Window indicates the number of samples to use in calculating the mean\n",
    "#####The window size is static and the samples are equally weighted\n",
    "#####NB: That the calculation cannot start until you have acquired that number of samples"
   ]
  },
  {
   "cell_type": "code",
   "execution_count": 60,
   "metadata": {
    "collapsed": false
   },
   "outputs": [
    {
     "data": {
      "image/png": "[encoded data removed]",
      "text/plain": [
       "<matplotlib.figure.Figure at 0x107fd76d0>"
      ]
     },
     "metadata": {},
     "output_type": "display_data"
    }
   ],
   "source": [
    "apple = stocks['AAPL']\n",
    "apple.plot()\n",
    "pd.rolling_mean(apple, window = 250).plot(figsize = (15,5))\n",
    "plt.show()"
   ]
  },
  {
   "cell_type": "markdown",
   "metadata": {},
   "source": [
    "###Moving Standard Deviation"
   ]
  },
  {
   "cell_type": "code",
   "execution_count": 61,
   "metadata": {
    "collapsed": false
   },
   "outputs": [
    {
     "data": {
      "image/png": "[encoded data removed]",
      "text/plain": [
       "<matplotlib.figure.Figure at 0x107a81a50>"
      ]
     },
     "metadata": {},
     "output_type": "display_data"
    }
   ],
   "source": [
    "pd.rolling_std(apple, window = 250).plot(figsize = (15,5))\n",
    "plt.show()"
   ]
  },
  {
   "cell_type": "markdown",
   "metadata": {},
   "source": [
    "###Exponentially-weighted Functions"
   ]
  },
  {
   "cell_type": "markdown",
   "metadata": {},
   "source": [
    "#####But we weight the samples, giving more weight to more recent samples\n",
    "#####To specify the decay factor you specify a span\n",
    "#####Exponentially weighted functions adapt much faster than equally weighted moving averages"
   ]
  },
  {
   "cell_type": "code",
   "execution_count": 63,
   "metadata": {
    "collapsed": false
   },
   "outputs": [
    {
     "data": {
      "text/plain": [
       "<matplotlib.axes._subplots.AxesSubplot at 0x10827a7d0>"
      ]
     },
     "execution_count": 63,
     "metadata": {},
     "output_type": "execute_result"
    },
    {
     "data": {
      "image/png": "[encoded data removed]",
      "text/plain": [
       "<matplotlib.figure.Figure at 0x1082c7550>"
      ]
     },
     "metadata": {},
     "output_type": "display_data"
    }
   ],
   "source": [
    "apple.plot()\n",
    "pd.ewma(apple, span = 60).plot(figsize = (15,5))"
   ]
  },
  {
   "cell_type": "markdown",
   "metadata": {},
   "source": [
    "###Rolling correlation\n",
    "#####We can provide the correlation between 2 time series using a rolling correlation"
   ]
  },
  {
   "cell_type": "code",
   "execution_count": 65,
   "metadata": {
    "collapsed": false
   },
   "outputs": [
    {
     "name": "stdout",
     "output_type": "stream",
     "text": [
      "1990-02-01    328.79\n",
      "1990-02-02    330.92\n",
      "1990-02-05    331.85\n",
      "1990-02-06    329.66\n",
      "1990-02-07    333.75\n",
      "Name: SPX, dtype: float64\n",
      "1990-02-01       NaN\n",
      "1990-02-02    328.79\n",
      "1990-02-05    330.92\n",
      "1990-02-06    331.85\n",
      "1990-02-07    329.66\n",
      "Name: SPX, dtype: float64\n",
      "1990-02-01         NaN\n",
      "1990-02-02    0.006478\n",
      "1990-02-05    0.002810\n",
      "1990-02-06   -0.006599\n",
      "1990-02-07    0.012407\n",
      "Name: SPX, dtype: float64\n"
     ]
    }
   ],
   "source": [
    "#this is caculating the percent change, which is equal to time series/ time serie.shift(1) - 1\n",
    "s_and_p_index = stocks['SPX']\n",
    "print s_and_p_index.head()\n",
    "print s_and_p_index.shift(1).head()\n",
    "s_and_p_rets = s_and_p_index/s_and_p_index.shift(1) - 1\n",
    "print s_and_p_rets.head()"
   ]
  },
  {
   "cell_type": "code",
   "execution_count": 66,
   "metadata": {
    "collapsed": false
   },
   "outputs": [
    {
     "name": "stdout",
     "output_type": "stream",
     "text": [
      "                  AA      AAPL        GE       IBM       JNJ  MSFT       PEP  \\\n",
      "1990-02-01       NaN       NaN       NaN       NaN       NaN   NaN       NaN   \n",
      "1990-02-02  0.012048  0.017812  0.000000  0.005956  0.023419     0  0.008278   \n",
      "1990-02-05  0.005952  0.022500  0.000000  0.025459 -0.006865     0 -0.006568   \n",
      "1990-02-06 -0.011834 -0.007335  0.003484  0.013857 -0.004608     0  0.016529   \n",
      "1990-02-07  0.005988 -0.043103  0.010417  0.021071  0.013889     0  0.003252   \n",
      "\n",
      "                 SPX       XOM  \n",
      "1990-02-01       NaN       NaN  \n",
      "1990-02-02  0.006478  0.019608  \n",
      "1990-02-05  0.002810  0.001603  \n",
      "1990-02-06 -0.006599 -0.003200  \n",
      "1990-02-07  0.012407  0.016051  \n"
     ]
    },
    {
     "data": {
      "text/plain": [
       "<matplotlib.axes._subplots.AxesSubplot at 0x108e29390>"
      ]
     },
     "execution_count": 66,
     "metadata": {},
     "output_type": "execute_result"
    },
    {
     "data": {
      "image/png": "[encoded data removed]",
      "text/plain": [
       "<matplotlib.figure.Figure at 0x108e01ed0>"
      ]
     },
     "metadata": {},
     "output_type": "display_data"
    }
   ],
   "source": [
    "returns = stocks.pct_change()\n",
    "print returns.head()\n",
    "corr = pd.rolling_corr(returns.AAPL, s_and_p_rets, 125)\n",
    "corr.plot(figsize = (15,5))"
   ]
  },
  {
   "cell_type": "markdown",
   "metadata": {},
   "source": [
    "#####Correlation of the S&P index with many stocks at the same time.\n",
    "#####Rolling corr will work on a time series with a data frame"
   ]
  },
  {
   "cell_type": "code",
   "execution_count": 67,
   "metadata": {
    "collapsed": false
   },
   "outputs": [
    {
     "data": {
      "text/plain": [
       "<matplotlib.axes._subplots.AxesSubplot at 0x108e01250>"
      ]
     },
     "execution_count": 67,
     "metadata": {},
     "output_type": "execute_result"
    },
    {
     "data": {
      "image/png": "[encoded data removed]",
      "text/plain": [
       "<matplotlib.figure.Figure at 0x1080b6490>"
      ]
     },
     "metadata": {},
     "output_type": "display_data"
    }
   ],
   "source": [
    "returns = three_stocks.pct_change()\n",
    "corr = pd.rolling_corr(returns, s_and_p_rets, 125)\n",
    "corr.plot(figsize = (15,5))"
   ]
  },
  {
   "cell_type": "markdown",
   "metadata": {},
   "source": [
    "#####Available rolling or moving window functions\n",
    "\n",
    "-rolling_count: Returns number of non-NA observations in each trailing window. \n",
    "\n",
    "-rolling_sum: Moving window sum. rolling_mean Moving window mean. \n",
    "\n",
    "-rolling_median: Moving window median. \n",
    "\n",
    "-rolling_var, rolling_std: Moving window variance and standard deviation, respectively. Uses n - 1 denominator. \n",
    "\n",
    "-rolling_skew, rolling_kurt: Moving window skewness (3rd moment) and kurtosis (4th moment), respectively.\n",
    "\n",
    "-rolling_min, rolling_max: Moving window minimum and maximum. \n",
    "\n",
    "-rolling_quantile: Moving window score at percentile/ sample quantile. \n",
    "\n",
    "-rolling_corr, rolling_cov: Moving window correlation and covariance. \n",
    "\n",
    "-rolling_apply: Apply generic array function over a moving window. \n",
    "\n",
    "-ewma:  Exponentially-weighted moving average. \n",
    "\n",
    "-ewmvar, ewmstd: Exponentially-weighted moving variance and standard deviation. \n",
    "\n",
    "-ewmcorr, ewmcov: Exponentially-weighted moving correlation and covariance."
   ]
  },
  {
   "cell_type": "markdown",
   "metadata": {},
   "source": [
    "---\n",
    "#A more detailed exploration of Financial and Economic Data Applications can be found in Python for Data Analysis by Wes McKinney"
   ]
  },
  {
   "cell_type": "code",
   "execution_count": null,
   "metadata": {
    "collapsed": true
   },
   "outputs": [],
   "source": []
  }
 ],
 "metadata": {
  "kernelspec": {
   "display_name": "Python 2",
   "language": "python",
   "name": "python2"
  },
  "language_info": {
   "codemirror_mode": {
    "name": "ipython",
    "version": 2
   },
   "file_extension": ".py",
   "mimetype": "text/x-python",
   "name": "python",
   "nbconvert_exporter": "python",
   "pygments_lexer": "ipython2",
   "version": "2.7.10"
  }
 },
 "nbformat": 4,
 "nbformat_minor": 0
}
