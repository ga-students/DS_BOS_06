{
 "cells": [
  {
   "cell_type": "code",
   "execution_count": 1,
   "metadata": {
    "collapsed": false
   },
   "outputs": [],
   "source": [
    "import pandas as pd\n",
    "import numpy as np\n",
    "import matplotlib.pyplot as plt\n",
    "%matplotlib inline\n",
    "from random import choice\n",
    "from sklearn.linear_model import LinearRegression\n",
    "from sklearn.metrics import mean_squared_error\n",
    "from sklearn.pipeline import make_pipeline\n",
    "from sklearn.preprocessing import PolynomialFeatures"
   ]
  },
  {
   "cell_type": "markdown",
   "metadata": {},
   "source": [
    "---\n",
    "Example of Time Series Modelling - Building an AR Model\n",
    "=====\n",
    "***"
   ]
  },
  {
   "cell_type": "markdown",
   "metadata": {},
   "source": [
    "####Going to use Ebola Deaths as an example"
   ]
  },
  {
   "cell_type": "code",
   "execution_count": 2,
   "metadata": {
    "collapsed": false
   },
   "outputs": [],
   "source": [
    "df = pd.DataFrame.from_csv('https://raw.githubusercontent.com/cmrivers/ebola/master/country_timeseries.csv',\\\n",
    "                           index_col=0)"
   ]
  },
  {
   "cell_type": "code",
   "execution_count": 3,
   "metadata": {
    "collapsed": false
   },
   "outputs": [
    {
     "data": {
      "text/plain": [
       "Index([u'Day', u'Cases_Guinea', u'Cases_Liberia', u'Cases_SierraLeone',\n",
       "       u'Cases_Nigeria', u'Cases_Senegal', u'Cases_UnitedStates',\n",
       "       u'Cases_Spain', u'Cases_Mali', u'Deaths_Guinea', u'Deaths_Liberia',\n",
       "       u'Deaths_SierraLeone', u'Deaths_Nigeria', u'Deaths_Senegal',\n",
       "       u'Deaths_UnitedStates', u'Deaths_Spain', u'Deaths_Mali'],\n",
       "      dtype='object')"
      ]
     },
     "execution_count": 3,
     "metadata": {},
     "output_type": "execute_result"
    }
   ],
   "source": [
    "df.columns"
   ]
  },
  {
   "cell_type": "code",
   "execution_count": 4,
   "metadata": {
    "collapsed": false
   },
   "outputs": [
    {
     "name": "stdout",
     "output_type": "stream",
     "text": [
      "<class 'pandas.core.frame.DataFrame'>\n",
      "DatetimeIndex: 122 entries, 2015-01-05 to 2014-03-22\n",
      "Data columns (total 17 columns):\n",
      "Day                    122 non-null int64\n",
      "Cases_Guinea           93 non-null float64\n",
      "Cases_Liberia          83 non-null float64\n",
      "Cases_SierraLeone      87 non-null float64\n",
      "Cases_Nigeria          38 non-null float64\n",
      "Cases_Senegal          25 non-null float64\n",
      "Cases_UnitedStates     18 non-null float64\n",
      "Cases_Spain            16 non-null float64\n",
      "Cases_Mali             12 non-null float64\n",
      "Deaths_Guinea          92 non-null float64\n",
      "Deaths_Liberia         81 non-null float64\n",
      "Deaths_SierraLeone     87 non-null float64\n",
      "Deaths_Nigeria         38 non-null float64\n",
      "Deaths_Senegal         22 non-null float64\n",
      "Deaths_UnitedStates    18 non-null float64\n",
      "Deaths_Spain           16 non-null float64\n",
      "Deaths_Mali            12 non-null float64\n",
      "dtypes: float64(16), int64(1)\n",
      "memory usage: 17.2 KB\n"
     ]
    }
   ],
   "source": [
    "df.info()"
   ]
  },
  {
   "cell_type": "markdown",
   "metadata": {},
   "source": [
    "####We need to impute missing data values, in order to preserve as much of the time series as possible"
   ]
  },
  {
   "cell_type": "markdown",
   "metadata": {},
   "source": [
    "###Look at \"both\" ends of this data"
   ]
  },
  {
   "cell_type": "code",
   "execution_count": 5,
   "metadata": {
    "collapsed": false
   },
   "outputs": [
    {
     "data": {
      "text/html": [
       "<div>\n",
       "<table border=\"1\" class=\"dataframe\">\n",
       "  <thead>\n",
       "    <tr style=\"text-align: right;\">\n",
       "      <th></th>\n",
       "      <th>Deaths_Guinea</th>\n",
       "      <th>Deaths_Liberia</th>\n",
       "      <th>Deaths_SierraLeone</th>\n",
       "    </tr>\n",
       "    <tr>\n",
       "      <th>Date</th>\n",
       "      <th></th>\n",
       "      <th></th>\n",
       "      <th></th>\n",
       "    </tr>\n",
       "  </thead>\n",
       "  <tbody>\n",
       "    <tr>\n",
       "      <th>2015-01-04</th>\n",
       "      <td>1781</td>\n",
       "      <td>NaN</td>\n",
       "      <td>2943</td>\n",
       "    </tr>\n",
       "  </tbody>\n",
       "</table>\n",
       "</div>"
      ],
      "text/plain": [
       "            Deaths_Guinea  Deaths_Liberia  Deaths_SierraLeone\n",
       "Date                                                         \n",
       "2015-01-04           1781             NaN                2943"
      ]
     },
     "execution_count": 5,
     "metadata": {},
     "output_type": "execute_result"
    }
   ],
   "source": [
    "deathColList = [\"Deaths_Guinea\", \"Deaths_Liberia\", \"Deaths_SierraLeone\"]\n",
    "\n",
    "df.sort(\"Day\", ascending=False)[deathColList][1:2]"
   ]
  },
  {
   "cell_type": "code",
   "execution_count": 6,
   "metadata": {
    "collapsed": false
   },
   "outputs": [
    {
     "data": {
      "text/html": [
       "<div>\n",
       "<table border=\"1\" class=\"dataframe\">\n",
       "  <thead>\n",
       "    <tr style=\"text-align: right;\">\n",
       "      <th></th>\n",
       "      <th>Deaths_Guinea</th>\n",
       "      <th>Deaths_Liberia</th>\n",
       "      <th>Deaths_SierraLeone</th>\n",
       "    </tr>\n",
       "    <tr>\n",
       "      <th>Date</th>\n",
       "      <th></th>\n",
       "      <th></th>\n",
       "      <th></th>\n",
       "    </tr>\n",
       "  </thead>\n",
       "  <tbody>\n",
       "    <tr>\n",
       "      <th>2014-03-24</th>\n",
       "      <td>59</td>\n",
       "      <td>NaN</td>\n",
       "      <td>NaN</td>\n",
       "    </tr>\n",
       "  </tbody>\n",
       "</table>\n",
       "</div>"
      ],
      "text/plain": [
       "            Deaths_Guinea  Deaths_Liberia  Deaths_SierraLeone\n",
       "Date                                                         \n",
       "2014-03-24             59             NaN                 NaN"
      ]
     },
     "execution_count": 6,
     "metadata": {},
     "output_type": "execute_result"
    }
   ],
   "source": [
    "df.sort(\"Day\", ascending=True)[deathColList][1:2]"
   ]
  },
  {
   "cell_type": "markdown",
   "metadata": {},
   "source": [
    "##### Use both a backfill AND a forward fill in order to fill all the NAs. "
   ]
  },
  {
   "cell_type": "code",
   "execution_count": 7,
   "metadata": {
    "collapsed": false
   },
   "outputs": [],
   "source": [
    "df1 = df.bfill()\n",
    "df1 = df1.ffill()"
   ]
  },
  {
   "cell_type": "code",
   "execution_count": 8,
   "metadata": {
    "collapsed": false
   },
   "outputs": [
    {
     "name": "stdout",
     "output_type": "stream",
     "text": [
      "<class 'pandas.core.frame.DataFrame'>\n",
      "DatetimeIndex: 122 entries, 2015-01-05 to 2014-03-22\n",
      "Data columns (total 17 columns):\n",
      "Day                    122 non-null int64\n",
      "Cases_Guinea           122 non-null float64\n",
      "Cases_Liberia          122 non-null float64\n",
      "Cases_SierraLeone      122 non-null float64\n",
      "Cases_Nigeria          122 non-null float64\n",
      "Cases_Senegal          122 non-null float64\n",
      "Cases_UnitedStates     122 non-null float64\n",
      "Cases_Spain            122 non-null float64\n",
      "Cases_Mali             122 non-null float64\n",
      "Deaths_Guinea          122 non-null float64\n",
      "Deaths_Liberia         122 non-null float64\n",
      "Deaths_SierraLeone     122 non-null float64\n",
      "Deaths_Nigeria         122 non-null float64\n",
      "Deaths_Senegal         122 non-null float64\n",
      "Deaths_UnitedStates    122 non-null float64\n",
      "Deaths_Spain           122 non-null float64\n",
      "Deaths_Mali            122 non-null float64\n",
      "dtypes: float64(16), int64(1)\n",
      "memory usage: 17.2 KB\n"
     ]
    }
   ],
   "source": [
    "df1.info()"
   ]
  },
  {
   "cell_type": "code",
   "execution_count": 9,
   "metadata": {
    "collapsed": false
   },
   "outputs": [
    {
     "data": {
      "text/html": [
       "<div>\n",
       "<table border=\"1\" class=\"dataframe\">\n",
       "  <thead>\n",
       "    <tr style=\"text-align: right;\">\n",
       "      <th></th>\n",
       "      <th>Deaths_Guinea</th>\n",
       "      <th>Deaths_Liberia</th>\n",
       "      <th>Deaths_SierraLeone</th>\n",
       "    </tr>\n",
       "    <tr>\n",
       "      <th>Date</th>\n",
       "      <th></th>\n",
       "      <th></th>\n",
       "      <th></th>\n",
       "    </tr>\n",
       "  </thead>\n",
       "  <tbody>\n",
       "    <tr>\n",
       "      <th>2015-01-04</th>\n",
       "      <td>1781</td>\n",
       "      <td>3496</td>\n",
       "      <td>2943</td>\n",
       "    </tr>\n",
       "  </tbody>\n",
       "</table>\n",
       "</div>"
      ],
      "text/plain": [
       "            Deaths_Guinea  Deaths_Liberia  Deaths_SierraLeone\n",
       "Date                                                         \n",
       "2015-01-04           1781            3496                2943"
      ]
     },
     "execution_count": 9,
     "metadata": {},
     "output_type": "execute_result"
    }
   ],
   "source": [
    "df1.sort(\"Day\", ascending=False)[deathColList][1:2]"
   ]
  },
  {
   "cell_type": "code",
   "execution_count": 10,
   "metadata": {
    "collapsed": false
   },
   "outputs": [
    {
     "data": {
      "text/html": [
       "<div>\n",
       "<table border=\"1\" class=\"dataframe\">\n",
       "  <thead>\n",
       "    <tr style=\"text-align: right;\">\n",
       "      <th></th>\n",
       "      <th>Deaths_Guinea</th>\n",
       "      <th>Deaths_Liberia</th>\n",
       "      <th>Deaths_SierraLeone</th>\n",
       "    </tr>\n",
       "    <tr>\n",
       "      <th>Date</th>\n",
       "      <th></th>\n",
       "      <th></th>\n",
       "      <th></th>\n",
       "    </tr>\n",
       "  </thead>\n",
       "  <tbody>\n",
       "    <tr>\n",
       "      <th>2014-03-24</th>\n",
       "      <td>59</td>\n",
       "      <td>6</td>\n",
       "      <td>5</td>\n",
       "    </tr>\n",
       "  </tbody>\n",
       "</table>\n",
       "</div>"
      ],
      "text/plain": [
       "            Deaths_Guinea  Deaths_Liberia  Deaths_SierraLeone\n",
       "Date                                                         \n",
       "2014-03-24             59               6                   5"
      ]
     },
     "execution_count": 10,
     "metadata": {},
     "output_type": "execute_result"
    }
   ],
   "source": [
    "df1.sort(\"Day\", ascending=True)[deathColList][1:2]"
   ]
  },
  {
   "cell_type": "code",
   "execution_count": 11,
   "metadata": {
    "collapsed": false
   },
   "outputs": [],
   "source": [
    "deaths_df = df1[deathColList]"
   ]
  },
  {
   "cell_type": "code",
   "execution_count": 12,
   "metadata": {
    "collapsed": false
   },
   "outputs": [
    {
     "data": {
      "text/plain": [
       "<matplotlib.axes._subplots.AxesSubplot at 0x108d0d310>"
      ]
     },
     "execution_count": 12,
     "metadata": {},
     "output_type": "execute_result"
    },
    {
     "data": {
      "image/png": "[encoded data removed]",
      "text/plain": [
       "<matplotlib.figure.Figure at 0x10af843d0>"
      ]
     },
     "metadata": {},
     "output_type": "display_data"
    }
   ],
   "source": [
    "deaths_df.plot(figsize=(15,5))"
   ]
  },
  {
   "cell_type": "markdown",
   "metadata": {},
   "source": [
    "---\n",
    "#Auto-regressive Modelling\n",
    "---"
   ]
  },
  {
   "cell_type": "markdown",
   "metadata": {},
   "source": [
    "---\n",
    "###- time series x[t-5], x[t-4], x[t-3], x[t-2], x[t-1], x[t], y\n",
    "###- y is the first future point, we are trying to predict y\n",
    "###- build a model to predict the current values \n",
    "###- x[t] =  theta0 + theta1 * x[t-1] + theta2 * x[t-2] + theta3 * x[t-3]\n",
    "###- x[t-1] = theta0 + theta1 * x[t -2] + theta2 * [t-3] + theta3 * x[t-4]\n",
    "###- etc etc...utilizing past data\n",
    "###- Then use the parameters theta to predict y, using y = theta0 + theta1 * x[t] + theta2 * x[t-1] + theta3 * x[t-2]\n",
    "---"
   ]
  },
  {
   "cell_type": "markdown",
   "metadata": {},
   "source": [
    "####The following cell illustrates basic time series modelling\n",
    "####It's a good start to get your head round what's going on, in terms of lagging columns\n",
    "####The data has only a single column\n",
    "####You lag this column by 1 time value to create a new column\n",
    "####Your Auto-regressive model size determines how many lagged columns you create\n",
    "####Then you build your model using the *rows* of all the lagged columns"
   ]
  },
  {
   "cell_type": "code",
   "execution_count": 13,
   "metadata": {
    "collapsed": false
   },
   "outputs": [
    {
     "data": {
      "text/plain": [
       "Date\n",
       "2015-01-05    1786\n",
       "2015-01-04    1781\n",
       "Name: Deaths_Guinea, dtype: float64"
      ]
     },
     "execution_count": 13,
     "metadata": {},
     "output_type": "execute_result"
    }
   ],
   "source": [
    "colList = deaths_df.columns\n",
    "\n",
    "#For example purposes just try and predict the deaths for the first country in the column list\n",
    "#So the data just has a single column of data\n",
    "cols = colList[0]\n",
    "\n",
    "#For convenience set the deaths column to y\n",
    "y = deaths_df[cols]\n",
    "y.head(2)"
   ]
  },
  {
   "cell_type": "code",
   "execution_count": 14,
   "metadata": {
    "collapsed": false
   },
   "outputs": [
    {
     "name": "stdout",
     "output_type": "stream",
     "text": [
      "y has 122 many rows\n",
      "training location end is 61\n",
      "So the first 5 rows of data that we will be predicting are:\n",
      "--------------------------------\n",
      "Date\n",
      "2014-08-18    396\n",
      "2014-08-16    394\n",
      "2014-08-13    380\n",
      "2014-08-11    377\n",
      "2014-08-09    373\n",
      "Name: Deaths_Guinea, dtype: float64\n",
      "--------------------------------\n",
      "\n"
     ]
    }
   ],
   "source": [
    "#We use the first half of the data to train on\n",
    "#This is not ideal - you really want to use a fixed size moving window to train on as your time series progresses\n",
    "#However, this is not a bad place to start!\n",
    "print \"y has {:d} many rows\".format(len(y))\n",
    "train_end = len(y)/2\n",
    "print \"training location end is {:d}\".format(train_end)\n",
    "\n",
    "print \"So the first 5 rows of data that we will be predicting are:\"\n",
    "print \"--------------------------------\"\n",
    "print y[train_end: train_end + 5]\n",
    "print \"--------------------------------\\n\""
   ]
  },
  {
   "cell_type": "code",
   "execution_count": 15,
   "metadata": {
    "collapsed": false
   },
   "outputs": [
    {
     "name": "stdout",
     "output_type": "stream",
     "text": [
      "here are the first 10 rows of the lagged data\n",
      "ar_size if 4 so you have 4 columns, each lagged by 1\n",
      "clearly you can't use the first ar_size rows because as you lag you create NaNs\n",
      "--------------------------------\n",
      "            DG_lag1  DG_lag2  DG_lag3  DG_lag4\n",
      "Date                                          \n",
      "2015-01-05      NaN      NaN      NaN      NaN\n",
      "2015-01-04     1786      NaN      NaN      NaN\n",
      "2015-01-03     1781     1786      NaN      NaN\n",
      "2015-01-02     1767     1781     1786      NaN\n",
      "2014-12-31     1739     1767     1781     1786\n",
      "2014-12-28     1739     1739     1767     1781\n",
      "2014-12-27     1708     1739     1739     1767\n",
      "2014-12-24     1697     1708     1739     1739\n",
      "2014-12-21     1607     1697     1708     1739\n",
      "2014-12-20     1607     1607     1697     1708 \n",
      "\n",
      "\n",
      "--------------------------------\n",
      "\n",
      "--------------------------------\n",
      "            DG_lag1  DG_lag2  DG_lag3  DG_lag4\n",
      "Date                                          \n",
      "2014-08-18      406      430      494      517\n",
      "2014-08-16      396      406      430      494\n",
      "2014-08-13      394      396      406      430\n",
      "2014-08-11      380      394      396      406\n",
      "2014-08-09      377      380      394      396\n",
      "2014-08-06      373      377      380      394\n",
      "2014-08-04      367      373      377      380\n",
      "2014-08-01      363      367      373      377\n",
      "2014-07-30      358      363      367      373\n",
      "2014-07-27      346      358      363      367 \n",
      "\n",
      "\n",
      "--------------------------------\n",
      "\n"
     ]
    }
   ],
   "source": [
    "#ar_size represents the size of your Auto-regressive model\n",
    "#so if your model size is 4 then use x1 (at time t-4), x2 (at time t-3), x3 (at time t-2), x4 (at time t-1)\n",
    "#to predict x5 (the current value)\n",
    "\n",
    "ar_size = 4\n",
    "    \n",
    "#Obviously you need to lag your column by 1, up to ar_size in order to get your training data\n",
    "#You get as many columns as you need because of ar_size\n",
    "lagged = pd.concat([y.shift(i+1) for i in xrange(ar_size)], axis=1)\n",
    "lagged.columns = ['DG_lag1', 'DG_lag2', 'DG_lag3', 'DG_lag4']\n",
    "\n",
    "print \"here are the first 10 rows of the lagged data\"\n",
    "print \"ar_size if 4 so you have 4 columns, each lagged by 1\"\n",
    "print \"clearly you can't use the first ar_size rows because as you lag you create NaNs\"\n",
    "print \"--------------------------------\"\n",
    "print lagged[0:10], \"\\n\\n\"\n",
    "print \"--------------------------------\\n\"\n",
    "print \"--------------------------------\"\n",
    "print lagged[train_end: train_end + 10], \"\\n\\n\"\n",
    "print \"--------------------------------\\n\""
   ]
  },
  {
   "cell_type": "code",
   "execution_count": 16,
   "metadata": {
    "collapsed": false
   },
   "outputs": [
    {
     "name": "stdout",
     "output_type": "stream",
     "text": [
      "            DG_lag1  DG_lag2  DG_lag3  DG_lag4\n",
      "Date                                          \n",
      "2014-12-31     1739     1767     1781     1786\n",
      "2014-12-28     1739     1739     1767     1781\n",
      "2014-12-27     1708     1739     1739     1767\n",
      "2014-12-24     1697     1708     1739     1739\n",
      "2014-12-21     1607     1697     1708     1739\n",
      "Date\n",
      "2014-12-31    1739\n",
      "2014-12-28    1708\n",
      "2014-12-27    1697\n",
      "2014-12-24    1607\n",
      "2014-12-21    1607\n",
      "Name: Deaths_Guinea, dtype: float64\n"
     ]
    }
   ],
   "source": [
    "#The training set will consist of all the lagged columns and the first half of the rows\n",
    "#Here's your X and y for the model:\n",
    "X = lagged.ix[ar_size:train_end]\n",
    "yy = y.ix[ar_size:train_end]\n",
    "print X.ix[0:5]\n",
    "print yy.ix[0:5]"
   ]
  },
  {
   "cell_type": "code",
   "execution_count": 17,
   "metadata": {
    "collapsed": false
   },
   "outputs": [
    {
     "name": "stdout",
     "output_type": "stream",
     "text": [
      "--------------------------------\n",
      "Build a model using these values: \n",
      "1786.0 1781.0 1767.0 1739.0 to predict this value:  1739.0 and\n",
      "1781.0 1767.0 1739.0 1739.0 to predict this value:  1708.0 and\n",
      "1767.0 1739.0 1739.0 1708.0 to predict this value:  1697.0 and\n",
      "1739.0 1739.0 1708.0 1697.0 to predict this value:  1607.0 and\n",
      "1739.0 1708.0 1697.0 1607.0 to predict this value:  1607.0 and\n",
      "--------------------------------\n",
      "\n"
     ]
    }
   ],
   "source": [
    "#Look at the five rows of the training set and test set\n",
    "#See what pd.shift is doing\n",
    "print \"--------------------------------\"\n",
    "print \"Build a model using these values: \\n\",\n",
    "for m in xrange(5):\n",
    "    for k in xrange(ar_size - 1, -1, -1):\n",
    "        print X.ix[m][k],\n",
    "    print \"to predict this value: \",\n",
    "    print yy[m],\n",
    "    print \"and\"\n",
    "print \"--------------------------------\\n\""
   ]
  },
  {
   "cell_type": "markdown",
   "metadata": {},
   "source": [
    "---\n",
    "###Fit a single model to the first half of your data to predict the second half\n",
    "---"
   ]
  },
  {
   "cell_type": "code",
   "execution_count": 18,
   "metadata": {
    "collapsed": false
   },
   "outputs": [
    {
     "data": {
      "text/html": [
       "<div>\n",
       "<table border=\"1\" class=\"dataframe\">\n",
       "  <thead>\n",
       "    <tr style=\"text-align: right;\">\n",
       "      <th></th>\n",
       "      <th>0</th>\n",
       "      <th>1</th>\n",
       "      <th>2</th>\n",
       "      <th>3</th>\n",
       "    </tr>\n",
       "    <tr>\n",
       "      <th>Date</th>\n",
       "      <th></th>\n",
       "      <th></th>\n",
       "      <th></th>\n",
       "      <th></th>\n",
       "    </tr>\n",
       "  </thead>\n",
       "  <tbody>\n",
       "    <tr>\n",
       "      <th>2015-01-05</th>\n",
       "      <td>NaN</td>\n",
       "      <td>NaN</td>\n",
       "      <td>NaN</td>\n",
       "      <td>NaN</td>\n",
       "    </tr>\n",
       "    <tr>\n",
       "      <th>2015-01-04</th>\n",
       "      <td>1786</td>\n",
       "      <td>NaN</td>\n",
       "      <td>NaN</td>\n",
       "      <td>NaN</td>\n",
       "    </tr>\n",
       "    <tr>\n",
       "      <th>2015-01-03</th>\n",
       "      <td>1781</td>\n",
       "      <td>1786</td>\n",
       "      <td>NaN</td>\n",
       "      <td>NaN</td>\n",
       "    </tr>\n",
       "    <tr>\n",
       "      <th>2015-01-02</th>\n",
       "      <td>1767</td>\n",
       "      <td>1781</td>\n",
       "      <td>1786</td>\n",
       "      <td>NaN</td>\n",
       "    </tr>\n",
       "    <tr>\n",
       "      <th>2014-12-31</th>\n",
       "      <td>1739</td>\n",
       "      <td>1767</td>\n",
       "      <td>1781</td>\n",
       "      <td>1786</td>\n",
       "    </tr>\n",
       "    <tr>\n",
       "      <th>2014-12-28</th>\n",
       "      <td>1739</td>\n",
       "      <td>1739</td>\n",
       "      <td>1767</td>\n",
       "      <td>1781</td>\n",
       "    </tr>\n",
       "    <tr>\n",
       "      <th>2014-12-27</th>\n",
       "      <td>1708</td>\n",
       "      <td>1739</td>\n",
       "      <td>1739</td>\n",
       "      <td>1767</td>\n",
       "    </tr>\n",
       "    <tr>\n",
       "      <th>2014-12-24</th>\n",
       "      <td>1697</td>\n",
       "      <td>1708</td>\n",
       "      <td>1739</td>\n",
       "      <td>1739</td>\n",
       "    </tr>\n",
       "    <tr>\n",
       "      <th>2014-12-21</th>\n",
       "      <td>1607</td>\n",
       "      <td>1697</td>\n",
       "      <td>1708</td>\n",
       "      <td>1739</td>\n",
       "    </tr>\n",
       "    <tr>\n",
       "      <th>2014-12-20</th>\n",
       "      <td>1607</td>\n",
       "      <td>1607</td>\n",
       "      <td>1697</td>\n",
       "      <td>1708</td>\n",
       "    </tr>\n",
       "  </tbody>\n",
       "</table>\n",
       "</div>"
      ],
      "text/plain": [
       "               0     1     2     3\n",
       "Date                              \n",
       "2015-01-05   NaN   NaN   NaN   NaN\n",
       "2015-01-04  1786   NaN   NaN   NaN\n",
       "2015-01-03  1781  1786   NaN   NaN\n",
       "2015-01-02  1767  1781  1786   NaN\n",
       "2014-12-31  1739  1767  1781  1786\n",
       "2014-12-28  1739  1739  1767  1781\n",
       "2014-12-27  1708  1739  1739  1767\n",
       "2014-12-24  1697  1708  1739  1739\n",
       "2014-12-21  1607  1697  1708  1739\n",
       "2014-12-20  1607  1607  1697  1708"
      ]
     },
     "execution_count": 18,
     "metadata": {},
     "output_type": "execute_result"
    }
   ],
   "source": [
    "y = deaths_df[cols]\n",
    "train_end = len(y)/2\n",
    "ar_size = 4\n",
    "lagged = pd.concat([y.shift(i+1) for i in xrange(ar_size)], axis=1)\n",
    "lagged.columns = [range(ar_size)]\n",
    "X = lagged.ix[ar_size:train_end]\n",
    "yy = y.ix[ar_size:train_end]\n",
    "lagged.ix[0:10]"
   ]
  },
  {
   "cell_type": "code",
   "execution_count": 19,
   "metadata": {
    "collapsed": false
   },
   "outputs": [
    {
     "name": "stdout",
     "output_type": "stream",
     "text": [
      "------------------------------------\n",
      "Predicted        Actual       Error\n",
      "     391.83      396.00        4.17\n",
      "     382.28      394.00       11.72\n",
      "     374.53      380.00        5.47\n",
      "     364.55      377.00       12.45\n",
      "     356.11      373.00       16.89\n",
      "     354.17      367.00       12.83\n",
      "     348.03      363.00       14.97\n",
      "     343.33      358.00       14.67\n",
      "     339.08      346.00        6.92\n",
      "     329.73      339.00        9.27\n",
      "     320.68      319.00        1.68\n",
      "     306.85      314.00        7.15\n",
      "     295.13      310.00       14.87\n",
      "     292.72      310.00       17.28\n",
      "     289.95      304.00       14.05\n",
      "     286.46      309.00       22.54\n",
      "     286.53      307.00       20.47\n",
      "     288.32      305.00       16.68\n",
      "     285.04      303.00       17.96\n",
      "     283.68      270.00       13.68\n",
      "     263.08      270.00        6.92\n",
      "     248.92      267.00       18.08\n",
      "     251.50      267.00       15.50\n",
      "     247.35      264.00       16.65\n",
      "     245.96      264.00       18.04\n",
      "     244.40      226.00       18.40\n",
      "     221.97      215.00        6.97\n",
      "     198.67      215.00       16.33\n",
      "     199.16      208.00        8.84\n",
      "     193.18      193.00        0.18\n",
      "     180.19      186.00        5.81\n",
      "     170.46      174.00        3.54\n",
      "     161.69      171.00        9.31\n",
      "     154.37      157.00        2.63\n",
      "     145.70      158.00       12.30\n",
      "     139.63      157.00       17.37\n",
      "     141.13      155.00       13.87\n",
      "     138.15      149.00       10.85\n",
      "     133.90      143.00        9.10\n",
      "     127.89      141.00       13.11\n",
      "     124.75      141.00       16.25\n",
      "     124.19      136.00       11.81\n",
      "     120.94      136.00       15.06\n",
      "     118.61      136.00       17.39\n",
      "     119.30      129.00        9.70\n",
      "     114.66      122.00        7.34\n",
      "     107.43      108.00        0.57\n",
      "      96.95      108.00       11.05\n",
      "      91.26      106.00       14.74\n",
      "      91.38      101.00        9.62\n",
      "      86.30       95.00        8.70\n",
      "      80.81       86.00        5.19\n",
      "      73.32       83.00        9.68\n",
      "      68.02       80.00       11.98\n",
      "      65.65       70.00        4.35\n",
      "      57.97       70.00       12.03\n",
      "      53.81       66.00       12.19\n",
      "      52.52       62.00        9.48\n",
      "      47.52       60.00       12.48\n",
      "      45.14       59.00       13.86\n",
      "      43.88       29.00       14.88\n",
      "Mean Squared Error is 1.62117333328\n"
     ]
    }
   ],
   "source": [
    "#Now fit your model    \n",
    "clf = LinearRegression()\n",
    "clf.fit(X, yy)\n",
    "    \n",
    "predictions = []\n",
    "#Now use the model to predict the second half of the data\n",
    "mse = 0.0\n",
    "count = 0.0\n",
    "print \"------------------------------------\"\n",
    "print \"Predicted        Actual       Error\"\n",
    "for t in xrange(train_end, len(y)):\n",
    "    y_hat = clf.predict(lagged.ix[t])\n",
    "    print \"{:11.2f} {:11.2f} {:11.2f}\".format(y_hat[0], y.ix[t], np.abs(y_hat[0]-y.ix[t]))\n",
    "    mse += (y_hat[0]-y.ix[t]) * (y_hat[0]-y.ix[t])\n",
    "    count += 1\n",
    "mse = np.sqrt(mse)/count\n",
    "print \"Mean Squared Error is {0:}\".format(mse)"
   ]
  },
  {
   "cell_type": "markdown",
   "metadata": {},
   "source": [
    "---\n",
    "###Use a moving window\n",
    "###This trains a new model as the window slides over the data\n",
    "###The window is of fixed size\n",
    "###This means the latest data gets incorporated into a new model and old data drops out the back of the window\n",
    "---"
   ]
  },
  {
   "cell_type": "code",
   "execution_count": 20,
   "metadata": {
    "collapsed": false
   },
   "outputs": [
    {
     "name": "stdout",
     "output_type": "stream",
     "text": [
      "------------------------------------\n",
      "Predicted        Actual       Error\n",
      "     396.22      396.00        0.22\n",
      "     386.15      394.00        7.85\n",
      "     376.97      380.00        3.03\n",
      "     367.34      377.00        9.66\n",
      "     358.21      373.00       14.79\n",
      "     357.52      367.00        9.48\n",
      "     353.70      363.00        9.30\n",
      "     348.31      358.00        9.69\n",
      "     345.95      346.00        0.05\n",
      "     334.36      339.00        4.64\n",
      "     326.52      319.00        7.52\n",
      "     309.35      314.00        4.65\n",
      "     300.05      310.00        9.95\n",
      "     295.34      310.00       14.66\n",
      "     292.12      304.00       11.88\n",
      "     286.90      309.00       22.10\n",
      "     291.67      307.00       15.33\n",
      "     291.43      305.00       13.57\n",
      "     290.39      303.00       12.61\n",
      "     290.46      270.00       20.46\n",
      "     265.05      270.00        4.95\n",
      "     264.43      267.00        2.57\n",
      "     257.19      267.00        9.81\n",
      "     256.39      264.00        7.61\n",
      "     254.33      264.00        9.67\n",
      "     255.22      226.00       29.22\n",
      "     222.08      215.00        7.08\n",
      "     214.75      215.00        0.25\n",
      "     212.28      208.00        4.28\n",
      "     200.46      193.00        7.46\n",
      "     186.57      186.00        0.57\n",
      "     180.99      174.00        6.99\n",
      "     169.89      171.00        1.11\n",
      "     164.84      157.00        7.84\n",
      "     152.75      158.00        5.25\n",
      "     152.22      157.00        4.78\n",
      "     152.56      155.00        2.44\n",
      "     149.05      149.00        0.05\n",
      "     144.06      143.00        1.06\n",
      "     139.10      141.00        1.90\n",
      "     137.95      141.00        3.05\n",
      "     137.78      136.00        1.78\n",
      "     133.31      136.00        2.69\n",
      "     133.71      136.00        2.29\n",
      "     132.44      129.00        3.44\n",
      "     125.18      122.00        3.18\n",
      "     118.48      108.00       10.48\n",
      "     105.50      108.00        2.50\n",
      "     104.48      106.00        1.52\n",
      "     105.14      101.00        4.14\n",
      "      99.71       95.00        4.71\n",
      "      92.90       86.00        6.90\n",
      "      84.36       83.00        1.36\n",
      "      82.77       80.00        2.77\n",
      "      79.98       70.00        9.98\n",
      "      67.61       70.00        2.39\n",
      "      66.37       66.00        0.37\n",
      "      62.28       62.00        0.28\n",
      "      57.24       60.00        2.76\n",
      "      55.44       59.00        3.56\n",
      "      54.13       29.00       25.13\n",
      "Mean Squared Error is 1.17549918183\n"
     ]
    }
   ],
   "source": [
    "y = deaths_df[cols]\n",
    "train_end = len(y)/2\n",
    "ar_size = 4\n",
    "lagged = pd.concat([y.shift(i+1) for i in xrange(ar_size)], axis=1)\n",
    "lagged.columns = [range(ar_size)]\n",
    "clfB = LinearRegression()\n",
    "\n",
    "predictionsB = []\n",
    "#Now use the model to predict the second half of the data\n",
    "mseB = 0.0\n",
    "countB = 0.0\n",
    "print \"------------------------------------\"\n",
    "print \"Predicted        Actual       Error\"\n",
    "for t in xrange(train_end, len(y)):\n",
    "    XB = lagged.ix[t - train_end + ar_size: t - 1]\n",
    "    yyB = y.ix[t - train_end + ar_size: t - 1]\n",
    "    clf.fit(XB, yyB)\n",
    "    y_hatB = clf.predict(lagged.ix[t])\n",
    "    print \"{:11.2f} {:11.2f} {:11.2f}\".format(y_hatB[0], y.ix[t], np.abs(y_hatB[0]-y.ix[t]))\n",
    "    mseB += (y_hatB[0]-y.ix[t]) * (y_hatB[0]-y.ix[t])\n",
    "    countB += 1\n",
    "mseB = np.sqrt(mseB)/countB\n",
    "print \"Mean Squared Error is {0:}\".format(mseB)"
   ]
  },
  {
   "cell_type": "code",
   "execution_count": null,
   "metadata": {
    "collapsed": true
   },
   "outputs": [],
   "source": []
  }
 ],
 "metadata": {
  "kernelspec": {
   "display_name": "Python 2",
   "language": "python",
   "name": "python2"
  },
  "language_info": {
   "codemirror_mode": {
    "name": "ipython",
    "version": 2
   },
   "file_extension": ".py",
   "mimetype": "text/x-python",
   "name": "python",
   "nbconvert_exporter": "python",
   "pygments_lexer": "ipython2",
   "version": "2.7.10"
  }
 },
 "nbformat": 4,
 "nbformat_minor": 0
}
